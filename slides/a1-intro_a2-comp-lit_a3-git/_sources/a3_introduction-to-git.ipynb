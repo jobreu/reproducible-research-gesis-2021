{
 "cells": [
  {
   "cell_type": "markdown",
   "metadata": {
    "slideshow": {
     "slide_type": "slide"
    }
   },
   "source": [
    "# A3: An introduction to Git\n",
    "\n",
    "Bernd Weiß"
   ]
  },
  {
   "cell_type": "markdown",
   "metadata": {
    "slideshow": {
     "slide_type": "skip"
    },
    "tags": [
     "remove-cell"
    ],
    "toc": true
   },
   "source": [
    "<h1>Table of Contents<span class=\"tocSkip\"></span></h1>\n",
    "<div class=\"toc\"><ul class=\"toc-item\"><li><span><a href=\"#Git-live-demo\" data-toc-modified-id=\"Git-live-demo-1\"><span class=\"toc-item-num\">1&nbsp;&nbsp;</span>Git live demo</a></span></li><li><span><a href=\"#Preface\" data-toc-modified-id=\"Preface-2\"><span class=\"toc-item-num\">2&nbsp;&nbsp;</span>Preface</a></span><ul class=\"toc-item\"><li><span><a href=\"#Initializing-folders-and-files\" data-toc-modified-id=\"Initializing-folders-and-files-2.1\"><span class=\"toc-item-num\">2.1&nbsp;&nbsp;</span>Initializing folders and files</a></span></li></ul></li><li><span><a href=\"#The-Concept-of-Version-Control\" data-toc-modified-id=\"The-Concept-of-Version-Control-3\"><span class=\"toc-item-num\">3&nbsp;&nbsp;</span>The Concept of Version Control</a></span><ul class=\"toc-item\"><li><span><a href=\"#Prerequisits\" data-toc-modified-id=\"Prerequisits-3.1\"><span class=\"toc-item-num\">3.1&nbsp;&nbsp;</span>Prerequisits</a></span></li><li><span><a href=\"#Why-use-a-Version-Control-System-(VCS)?\" data-toc-modified-id=\"Why-use-a-Version-Control-System-(VCS)?-3.2\"><span class=\"toc-item-num\">3.2&nbsp;&nbsp;</span>Why use a Version Control System (VCS)?</a></span></li><li><span><a href=\"#Terminology-and-concepts\" data-toc-modified-id=\"Terminology-and-concepts-3.3\"><span class=\"toc-item-num\">3.3&nbsp;&nbsp;</span>Terminology and concepts</a></span></li><li><span><a href=\"#Git:-A-30,000-foot-view\" data-toc-modified-id=\"Git:-A-30,000-foot-view-3.4\"><span class=\"toc-item-num\">3.4&nbsp;&nbsp;</span>Git: A 30,000 foot view</a></span></li><li><span><a href=\"#How-I-use-Git\" data-toc-modified-id=\"How-I-use-Git-3.5\"><span class=\"toc-item-num\">3.5&nbsp;&nbsp;</span>How I use Git</a></span></li></ul></li><li><span><a href=\"#Installing-Git-and-setup\" data-toc-modified-id=\"Installing-Git-and-setup-4\"><span class=\"toc-item-num\">4&nbsp;&nbsp;</span>Installing Git and setup</a></span><ul class=\"toc-item\"><li><span><a href=\"#Download-and-installation\" data-toc-modified-id=\"Download-and-installation-4.1\"><span class=\"toc-item-num\">4.1&nbsp;&nbsp;</span>Download and installation</a></span></li><li><span><a href=\"#Preparing-for-accessig-remote-repositories\" data-toc-modified-id=\"Preparing-for-accessig-remote-repositories-4.2\"><span class=\"toc-item-num\">4.2&nbsp;&nbsp;</span>Preparing for accessig remote repositories</a></span></li><li><span><a href=\"#Well,-not-so-distributed-at-all...\" data-toc-modified-id=\"Well,-not-so-distributed-at-all...-4.3\"><span class=\"toc-item-num\">4.3&nbsp;&nbsp;</span>Well, not so distributed at all...</a></span><ul class=\"toc-item\"><li><span><a href=\"#Setting-up-SSH\" data-toc-modified-id=\"Setting-up-SSH-4.3.1\"><span class=\"toc-item-num\">4.3.1&nbsp;&nbsp;</span>Setting up SSH</a></span></li></ul></li></ul></li><li><span><a href=\"#Basic-workflow\" data-toc-modified-id=\"Basic-workflow-5\"><span class=\"toc-item-num\">5&nbsp;&nbsp;</span>Basic workflow</a></span><ul class=\"toc-item\"><li><span><a href=\"#Setting-up-a-Git-repository\" data-toc-modified-id=\"Setting-up-a-Git-repository-5.1\"><span class=\"toc-item-num\">5.1&nbsp;&nbsp;</span>Setting up a Git repository</a></span></li><li><span><a href=\"#Creating-a-Git-repository\" data-toc-modified-id=\"Creating-a-Git-repository-5.2\"><span class=\"toc-item-num\">5.2&nbsp;&nbsp;</span>Creating a Git repository</a></span></li><li><span><a href=\"#The-status-of-a-repository-(git-status)\" data-toc-modified-id=\"The-status-of-a-repository-(git-status)-5.3\"><span class=\"toc-item-num\">5.3&nbsp;&nbsp;</span>The status of a repository (<code>git status</code>)</a></span></li><li><span><a href=\"#Adding-files-to-a-git-repository:-git-add-and-git-commit\" data-toc-modified-id=\"Adding-files-to-a-git-repository:-git-add-and-git-commit-5.4\"><span class=\"toc-item-num\">5.4&nbsp;&nbsp;</span>Adding files to a git repository: <code>git add</code> and <code>git commit</code></a></span></li><li><span><a href=\"#Viewing-Git's-commit-history:-git-log\" data-toc-modified-id=\"Viewing-Git's-commit-history:-git-log-5.5\"><span class=\"toc-item-num\">5.5&nbsp;&nbsp;</span>Viewing Git's commit history: <code>git log</code></a></span></li><li><span><a href=\"#Exercise\" data-toc-modified-id=\"Exercise-5.6\"><span class=\"toc-item-num\">5.6&nbsp;&nbsp;</span>Exercise</a></span></li><li><span><a href=\"#Undo-changes-/-Going-back-in-Git's-history\" data-toc-modified-id=\"Undo-changes-/-Going-back-in-Git's-history-5.7\"><span class=\"toc-item-num\">5.7&nbsp;&nbsp;</span>Undo changes / Going back in Git's history</a></span><ul class=\"toc-item\"><li><span><a href=\"#git-checkout\" data-toc-modified-id=\"git-checkout-5.7.1\"><span class=\"toc-item-num\">5.7.1&nbsp;&nbsp;</span>git checkout</a></span></li><li><span><a href=\"#git-revert\" data-toc-modified-id=\"git-revert-5.7.2\"><span class=\"toc-item-num\">5.7.2&nbsp;&nbsp;</span>git revert</a></span></li><li><span><a href=\"#git-reset\" data-toc-modified-id=\"git-reset-5.7.3\"><span class=\"toc-item-num\">5.7.3&nbsp;&nbsp;</span>git reset</a></span></li></ul></li><li><span><a href=\"#What-has-changed-at-the-file-level?-git-show-and-git-diff\" data-toc-modified-id=\"What-has-changed-at-the-file-level?-git-show-and-git-diff-5.8\"><span class=\"toc-item-num\">5.8&nbsp;&nbsp;</span>What has changed at the file level? <code>git show</code> and <code>git diff</code></a></span><ul class=\"toc-item\"><li><span><a href=\"#A-brief-intro-to-the-unified-diff-format\" data-toc-modified-id=\"A-brief-intro-to-the-unified-diff-format-5.8.1\"><span class=\"toc-item-num\">5.8.1&nbsp;&nbsp;</span>A brief intro to the unified diff format</a></span></li><li><span><a href=\"#git-show\" data-toc-modified-id=\"git-show-5.8.2\"><span class=\"toc-item-num\">5.8.2&nbsp;&nbsp;</span><code>git show</code></a></span></li></ul></li><li><span><a href=\"#Branching\" data-toc-modified-id=\"Branching-5.9\"><span class=\"toc-item-num\">5.9&nbsp;&nbsp;</span>Branching</a></span></li></ul></li><li><span><a href=\"#Working-with-remote-repositories\" data-toc-modified-id=\"Working-with-remote-repositories-6\"><span class=\"toc-item-num\">6&nbsp;&nbsp;</span>Working with remote repositories</a></span><ul class=\"toc-item\"><li><span><a href=\"#Establishing-a-connection-to-a-remote-repository\" data-toc-modified-id=\"Establishing-a-connection-to-a-remote-repository-6.1\"><span class=\"toc-item-num\">6.1&nbsp;&nbsp;</span>Establishing a connection to a remote repository</a></span></li><li><span><a href=\"#Cloning-a-remote-repository\" data-toc-modified-id=\"Cloning-a-remote-repository-6.2\"><span class=\"toc-item-num\">6.2&nbsp;&nbsp;</span>Cloning a remote repository</a></span></li><li><span><a href=\"#Adding-a-remote-repository-via-git-remote-add-...\" data-toc-modified-id=\"Adding-a-remote-repository-via-git-remote-add-...-6.3\"><span class=\"toc-item-num\">6.3&nbsp;&nbsp;</span>Adding a remote repository via <code>git remote add ...</code></a></span></li><li><span><a href=\"#Delete-remote-branch\" data-toc-modified-id=\"Delete-remote-branch-6.4\"><span class=\"toc-item-num\">6.4&nbsp;&nbsp;</span>Delete remote branch</a></span></li><li><span><a href=\"#Dowloading-a-remote-branch-that-is-not-on-your-computer-(yet)\" data-toc-modified-id=\"Dowloading-a-remote-branch-that-is-not-on-your-computer-(yet)-6.5\"><span class=\"toc-item-num\">6.5&nbsp;&nbsp;</span>Dowloading a remote branch that is not on your computer (yet)</a></span></li><li><span><a href=\"#Exercise\" data-toc-modified-id=\"Exercise-6.6\"><span class=\"toc-item-num\">6.6&nbsp;&nbsp;</span>Exercise</a></span></li></ul></li><li><span><a href=\"#Setting-up-a-Git-repository-locally-and-remotly\" data-toc-modified-id=\"Setting-up-a-Git-repository-locally-and-remotly-7\"><span class=\"toc-item-num\">7&nbsp;&nbsp;</span>Setting up a Git repository locally and remotly</a></span><ul class=\"toc-item\"><li><span><a href=\"#Exercise\" data-toc-modified-id=\"Exercise-7.1\"><span class=\"toc-item-num\">7.1&nbsp;&nbsp;</span>Exercise</a></span></li></ul></li><li><span><a href=\"#There-is-much-more...\" data-toc-modified-id=\"There-is-much-more...-8\"><span class=\"toc-item-num\">8&nbsp;&nbsp;</span>There is much more...</a></span></li><li><span><a href=\"#References\" data-toc-modified-id=\"References-9\"><span class=\"toc-item-num\">9&nbsp;&nbsp;</span>References</a></span></li></ul></div>"
   ]
  },
  {
   "cell_type": "markdown",
   "metadata": {
    "slideshow": {
     "slide_type": "subslide"
    }
   },
   "source": [
    "\n",
    "![](fig/xkcd_git.png)\n",
    "\n",
    "(Source: xkcd, https://xkcd.com/1597/, accessed on 2017-12-23)"
   ]
  },
  {
   "cell_type": "markdown",
   "metadata": {},
   "source": [
    "## Git live demo"
   ]
  },
  {
   "cell_type": "markdown",
   "metadata": {},
   "source": [
    "![](fig/live-streaming.png)\n",
    "\n",
    "<div>(Icons made by <a href=\"https://www.flaticon.com/authors/freepik\" title=\"Freepik\">Freepik</a> from <a href=\"https://www.flaticon.com/\" title=\"Flaticon\">www.flaticon.com</a>)</div>"
   ]
  },
  {
   "cell_type": "markdown",
   "metadata": {
    "slideshow": {
     "slide_type": "slide"
    }
   },
   "source": [
    "## Preface"
   ]
  },
  {
   "cell_type": "markdown",
   "metadata": {
    "slideshow": {
     "slide_type": "subslide"
    }
   },
   "source": [
    "**A few words on notation**\n",
    "\n",
    "All interactive Git commands in this document start with an exclamation mark like so: `!git add` In your terminal, though, you have to type in `git add` without exclamation mark"
   ]
  },
  {
   "cell_type": "markdown",
   "metadata": {
    "slideshow": {
     "slide_type": "skip"
    },
    "tags": [
     "hide-cell"
    ]
   },
   "source": [
    "### Initializing folders and files"
   ]
  },
  {
   "cell_type": "code",
   "execution_count": 119,
   "metadata": {
    "slideshow": {
     "slide_type": "skip"
    },
    "tags": [
     "remove-input"
    ]
   },
   "outputs": [],
   "source": [
    "#jupyter nbconvert --to pdf intro2git.ipynb\n",
    "#jupyter nbconvert --to pdf --execute intro2git.ipynb\n",
    "\n",
    "# https://github.com/damianavila/RISE\n",
    "# requires conda install -c damianavila82 rise\n",
    "#jupyter nbconvert xxx.ipynb --to slides --post serve"
   ]
  },
  {
   "cell_type": "markdown",
   "metadata": {
    "slideshow": {
     "slide_type": "skip"
    }
   },
   "source": [
    "Since we'd like to have a fully reproducible example, everytime this notebook is started everything is created from scratch. First, a test folder for Git is being created. "
   ]
  },
  {
   "cell_type": "code",
   "execution_count": 120,
   "metadata": {
    "slideshow": {
     "slide_type": "skip"
    },
    "tags": [
     "hide-cell"
    ]
   },
   "outputs": [],
   "source": [
    "import os\n",
    "import shutil\n",
    "import re\n",
    "\n",
    "test_folder = \"git_test_folder\"\n",
    "test_file_git = \"test_file_git\"\n",
    "\n",
    "## If this is the n+1-th run, check if we are already in folder test_folder and then go back to parent folder.    \n",
    "path = os.getcwd()\n",
    "if \"git_test_folder\" in path:\n",
    "    os.chdir(\"..\")\n",
    "\n",
    "## Start always from scratch: if test_folder exists, remove it. \n",
    "if os.path.exists(test_folder):\n",
    "    !rm -r {test_folder}\n",
    "    ## Using shutil.rmtree is unreliable...\n",
    "    ## shutil.rmtree(test_folder)"
   ]
  },
  {
   "cell_type": "code",
   "execution_count": 121,
   "metadata": {
    "slideshow": {
     "slide_type": "skip"
    },
    "tags": [
     "hide-cell"
    ]
   },
   "outputs": [],
   "source": [
    "if not os.path.isdir(test_folder):\n",
    "    os.makedirs(test_folder)"
   ]
  },
  {
   "cell_type": "code",
   "execution_count": 122,
   "metadata": {
    "slideshow": {
     "slide_type": "skip"
    },
    "tags": [
     "hide-cell"
    ]
   },
   "outputs": [],
   "source": [
    "import os\n",
    "test_folder = \"git_test_folder\"\n",
    "test_file_git = \"test_file_git\""
   ]
  },
  {
   "cell_type": "markdown",
   "metadata": {
    "slideshow": {
     "slide_type": "skip"
    }
   },
   "source": [
    "Second, change into git's test directory and create a new file with a total of four lines of text. "
   ]
  },
  {
   "cell_type": "code",
   "execution_count": 123,
   "metadata": {
    "slideshow": {
     "slide_type": "skip"
    },
    "tags": [
     "hide-cell"
    ]
   },
   "outputs": [],
   "source": [
    "os.chdir(test_folder)\n",
    "f = open(\"test.txt\", \"w\")\n",
    "file_content = \"l1: Branch: master\\n\" \\\n",
    "               \"l2: Author: BW\\n\" \\\n",
    "               \"l3: // Always start with a dumb comment:\\n\" \\\n",
    "               \"l4: use my_fancy_data.dta, clear\\n\" \\\n",
    "               \"l5: gen v1 = 1\\n\" \\\n",
    "               \"l6: gen v2 = v1 + 1\\n\" \\\n",
    "               \"l7: mean v1\"\n",
    "f.write(file_content)\n",
    "f.close()"
   ]
  },
  {
   "cell_type": "markdown",
   "metadata": {
    "slideshow": {
     "slide_type": "skip"
    }
   },
   "source": [
    "So, let's print the content of the test file:"
   ]
  },
  {
   "cell_type": "code",
   "execution_count": 124,
   "metadata": {
    "slideshow": {
     "slide_type": "skip"
    }
   },
   "outputs": [
    {
     "name": "stdout",
     "output_type": "stream",
     "text": [
      "l1: Branch: master\n",
      "l2: Author: BW\n",
      "l3: // Always start with a dumb comment:\n",
      "l4: use my_fancy_data.dta, clear\n",
      "l5: gen v1 = 1\n",
      "l6: gen v2 = v1 + 1\n",
      "l7: mean v1\n"
     ]
    }
   ],
   "source": [
    "f = open(\"test.txt\", \"r\")\n",
    "print(f.read())\n",
    "f.close()"
   ]
  },
  {
   "cell_type": "markdown",
   "metadata": {
    "slideshow": {
     "slide_type": "skip"
    }
   },
   "source": [
    "I also will create a couple of handy python functions that will make my life much easier:"
   ]
  },
  {
   "cell_type": "code",
   "execution_count": 125,
   "metadata": {
    "slideshow": {
     "slide_type": "skip"
    },
    "tags": [
     "hide-cell"
    ]
   },
   "outputs": [],
   "source": [
    "def replace_text(file, old, new):\n",
    "    f = open(file, \"r\")\n",
    "    flist = f.read()\n",
    "    f.close()\n",
    "\n",
    "    import re\n",
    "    rep = re.compile(old)\n",
    "    flist = rep.sub(new, flist)   \n",
    "    ##print flist    \n",
    "\n",
    "    f = open(file, \"w\")\n",
    "    f.write(flist)\n",
    "    f.close()\n",
    "    \n",
    "def remove_line(file, line_number):\n",
    "    f = open(file, \"r\")\n",
    "    flist = list(f)\n",
    "    f.close()\n",
    "\n",
    "    f = open(file, \"w\")\n",
    "    ## delete n-th line\n",
    "    del flist[line_number - 1]    #delete regarding element\n",
    "    for i in flist:\n",
    "        f.write(i)\n",
    "    f.close()    \n",
    "    \n",
    "    \n",
    "def print_file(file):\n",
    "    f = open(file, \"r\")\n",
    "    print(f.read())\n",
    "    f.close()"
   ]
  },
  {
   "cell_type": "markdown",
   "metadata": {
    "slideshow": {
     "slide_type": "slide"
    }
   },
   "source": [
    "## The Concept of Version Control "
   ]
  },
  {
   "cell_type": "markdown",
   "metadata": {
    "slideshow": {
     "slide_type": "slide"
    }
   },
   "source": [
    "### Prerequisits"
   ]
  },
  {
   "cell_type": "markdown",
   "metadata": {
    "slideshow": {
     "slide_type": "subslide"
    }
   },
   "source": [
    "- Git and other tools have been developed in the context of software development (in the Linux community, to be more precise)\n",
    "- Even though there exits graphical user interfaces (GUIs) for working with Git, it is highly recommended that you have a basic knowledge of how to use the CLI (see section on [](label:cli))\n",
    "- Once you mastered using Git at the command line, using a GUI is a peace of cake"
   ]
  },
  {
   "cell_type": "markdown",
   "metadata": {
    "slideshow": {
     "slide_type": "subslide"
    }
   },
   "source": [
    "Since most of you are working on a MS Windows PC, it is also a good idea to know the meaning of the `PATH` variable (what it is used for, how to access it and how to modify it)."
   ]
  },
  {
   "cell_type": "markdown",
   "metadata": {
    "slideshow": {
     "slide_type": "slide"
    }
   },
   "source": [
    "### Why use a Version Control System (VCS)?"
   ]
  },
  {
   "cell_type": "markdown",
   "metadata": {
    "slideshow": {
     "slide_type": "subslide"
    }
   },
   "source": [
    "- For backup \n",
    "\n",
    "- For collaborative work (including running into conflicting versions of a file) und syncing\n",
    "  - There is always a (the) \"most recent\" version of a file\n",
    "  - Given that there are conflicting versions of (text) files, Git is able to clearly identify these conflicts by displaying the differences of conflicting files (given they are in plain text)\n",
    "\n",
    "- Keeping track of changes (aka, time travel; all changes are tracked and it is quite easy to go back in time). So, even if you invented Skynet (popcultural reference) and mankind is about to being terminated for good, you always can go back in time\n",
    "\n",
    "- And, avoiding the horror of `final_rev2_update12_after-computer-crashed.docx` (see http://phdcomics.com/comics.php?f=1531)\n",
    "![](fig/f_naming-horror.jpg)\n",
    "\n",
    "- For having the possibility to test new code/functionalities in a \"sandbox\" (aka a new branch) (following-up my Skynet reference: create a parallel universe (the branch), do your evil thing and then go back to your reality if you don't like it, i.e., delete the parallel universe/branch)\n",
    "\n",
    "- While creating a history of changes, you are supposed to provide proper and meaningful messages that describe what has changed. If you do this thouroghly, you have a nice log file of all changes (like a lab notebook)\n",
    "\n",
    "- Authorship attribution \n",
    "\n",
    "- Modern web interfaces such as GitHub also allow for social interaction (strangers can send you [pull requests](https://docs.github.com/en/pull-requests/collaborating-with-pull-requests/proposing-changes-to-your-work-with-pull-requests/about-pull-requests) to improve your code/document/...) "
   ]
  },
  {
   "cell_type": "markdown",
   "metadata": {
    "slideshow": {
     "slide_type": "subslide"
    }
   },
   "source": [
    "For what type of files is a VCS useful?\n",
    "\n",
    "- Most useful for text files (Stata do files, SPSS syntax files, R skripts etc.). Text files can stored very efficient since only changes between version are tracked\n",
    "\n",
    "- Binary files (Blob = binary large object) (images, word files, stata data files, etc.) can be stored in a VCS but less efficient than text files since every time the entire file is saved"
   ]
  },
  {
   "cell_type": "markdown",
   "metadata": {
    "slideshow": {
     "slide_type": "slide"
    }
   },
   "source": [
    "### Terminology and concepts"
   ]
  },
  {
   "cell_type": "markdown",
   "metadata": {
    "slideshow": {
     "slide_type": "subslide"
    }
   },
   "source": [
    "- There is Git. \n",
    "\n",
    "- And, then there are GitHub, GitLab etc., which are (web-based GUI) frontends to make working with Git easier, especially when it comes to collaborative work. \n",
    "\n",
    "- GitHub and GitLab provide the opportunity to setup a remote Git repository. \n",
    "\n",
    "- So, in most cases you will need a local installation of Git. "
   ]
  },
  {
   "cell_type": "markdown",
   "metadata": {
    "slideshow": {
     "slide_type": "subslide"
    }
   },
   "source": [
    "- In addition to being a frontend to Git, GitHub and GitLab also provide project management features and allow to create so-called issues that can be considered file-related todo items. You also can use milestone etc. "
   ]
  },
  {
   "cell_type": "markdown",
   "metadata": {
    "slideshow": {
     "slide_type": "subslide"
    }
   },
   "source": [
    "- One more thing, \"Git\" is the name of the software, and the actual command-line tool is `git` (e.g., in Windows it is `git.exe`)."
   ]
  },
  {
   "cell_type": "markdown",
   "metadata": {
    "slideshow": {
     "slide_type": "slide"
    }
   },
   "source": [
    "### Git: A 30,000 foot view"
   ]
  },
  {
   "cell_type": "markdown",
   "metadata": {
    "slideshow": {
     "slide_type": "subslide"
    }
   },
   "source": [
    "- Git is a version control system (VCS). As mentioned above, a VCS allows you to track the history and attribution of your project files over time in a repository {cite:p}`narebskiMasteringGitAttain2016` \n",
    "\n",
    "- It is, if you will, a (very, very) powerful undo function (well, kind of...)\n",
    "\n",
    "- To be more precise, Git is a distributed VCS (DCVS) and hence a tool for collaborartive work\n",
    "\n",
    "- If you want to utilize Git for collaborative work, one approach of using Git in this context assumes that there exists a central and remote repository. Most fomous are GitHub, at GESIS we use GitLab"
   ]
  },
  {
   "cell_type": "markdown",
   "metadata": {
    "slideshow": {
     "slide_type": "subslide"
    }
   },
   "source": [
    "- Workflow in Git (given that a Git repository has already be initialized): \n",
    "\n",
    "1. Work locally (i.e. on your computer) on your files until a certain feature is completed (a function is completed, a paragraph written etc).\n",
    "2. *Commit* your file and write a commit message, i.e. inform git that a certain file (or more) have changed and inform your future self (or someone else) about the nature of your changes (aka write a commit message). This has to be done manually.\n",
    "3. Commit early, commit often!\n",
    "4. When a remote repository exists: send (\"push\") you changes to the remote repository."
   ]
  },
  {
   "cell_type": "markdown",
   "metadata": {},
   "source": [
    "![](fig/git-basic.png)\n",
    "\n",
    "Source: {cite:p}`healyPlainPersonGuide2019`, see https://plain-text.co/keep-a-record.html"
   ]
  },
  {
   "cell_type": "markdown",
   "metadata": {},
   "source": [
    "### How I use Git \n",
    "\n",
    "- Git is a very powerful tool, in my own work, I utilize a rather limited set of its capabilities\n",
    "- This is what I mostly do with Git:\n",
    "    - Initialize a new Git repository or clone an existing respository\n",
    "    - Backup my work on a remote server\n",
    "    - Track changes\n",
    "    - Use branches to implement experimental features\n",
    "    - Search (and undo) previous changes (most of the time using the interface provided bv GitHub or GitLab)\n",
    "- \"Google\" (or whatever your prefered seach engine is) a lot ..."
   ]
  },
  {
   "cell_type": "markdown",
   "metadata": {
    "slideshow": {
     "slide_type": "slide"
    }
   },
   "source": [
    "## Installing Git and setup "
   ]
  },
  {
   "cell_type": "markdown",
   "metadata": {
    "slideshow": {
     "slide_type": "slide"
    }
   },
   "source": [
    "### Download and installation"
   ]
  },
  {
   "cell_type": "markdown",
   "metadata": {
    "slideshow": {
     "slide_type": "subslide"
    }
   },
   "source": [
    "Git (for Windows) can be downloaded from: https://git-scm.com/download/win."
   ]
  },
  {
   "cell_type": "markdown",
   "metadata": {
    "slideshow": {
     "slide_type": "subslide"
    }
   },
   "source": [
    "Here are a few questions that you will be asked during the installation:\n",
    "- Default editor (use Notepad++ if you have it on your computed, vim also works)\n",
    "- Adjusting your PATH environment (you might want to go with the second optionn \"Use Git from the Windows command Prompt\")\n",
    "- Choosing HTTPS... (go with default: OpenSSL)"
   ]
  },
  {
   "cell_type": "markdown",
   "metadata": {
    "slideshow": {
     "slide_type": "subslide"
    }
   },
   "source": [
    "In case you will be working with others, you also will need a remote repository (be able to acces a remote respository). For convenience reasons it is recommended that you also install/set up SSH (see next slides)."
   ]
  },
  {
   "cell_type": "markdown",
   "metadata": {
    "slideshow": {
     "slide_type": "subslide"
    }
   },
   "source": [
    "For various reasons, I no longer use a standalone version of Git but use a version of Git that can be installed via [MSYS2](https://www.msys2.org/). \"MSYS2 is a collection of tools and libraries providing you with an easy-to-use environment for building, installing and running native Windows software\" (https://www.msys2.org/). "
   ]
  },
  {
   "cell_type": "markdown",
   "metadata": {},
   "source": [
    "### Prepare to access remote repositories"
   ]
  },
  {
   "cell_type": "markdown",
   "metadata": {},
   "source": [
    "### Well, not so distributed at all...\n",
    "\n",
    "- Even though Git is called \"distributed\", most of the time, there is just one central server (e.,g., GitHub, GitLab, ...)\n",
    "\n",
    "- A Git project is stored in a repository, which can be local or remote\n",
    "\n",
    "- When using Git to access a remote repository (for backup or collaborative work) on a remote server, you need to authenticate yourself to the server\n",
    "\n",
    "- There are two ways of authentication: HTTPS or SSH\n",
    "\n",
    "- Despite its technical details, I always choose SSH but Johannes, for instance, prefers HTTPS\n",
    "\n",
    "- More information can be found on these websites:\n",
    "    - https://docs.github.com/en/get-started/getting-started-with-git/about-remote-repositories\n",
    "    - https://docs.github.com/en/authentication/keeping-your-account-and-data-secure/about-authentication-to-github#authenticating-with-the-command-line"
   ]
  },
  {
   "cell_type": "markdown",
   "metadata": {
    "slideshow": {
     "slide_type": "slide"
    }
   },
   "source": [
    "#### Setting up SSH"
   ]
  },
  {
   "cell_type": "markdown",
   "metadata": {
    "slideshow": {
     "slide_type": "subslide"
    }
   },
   "source": [
    "To work with git on you local computer, you do not need SSH (= Secure Shell). SSH is a network protocol that comes in handy, when you work with remote repositories and when you do not want to type-in your passwort every time you pull (fetch) or push (send) from a remote repository. You still need to authenticate yourself, though. "
   ]
  },
  {
   "cell_type": "markdown",
   "metadata": {
    "slideshow": {
     "slide_type": "subslide"
    }
   },
   "source": [
    "Authentication in SSH (which is also the name of the program) works by using a private and a public key (usually the public key has the file extension `.pub`, e.g. my public key is `id_rsa.pub`). When you start working with SSH for the very first time, you have to create both keys. "
   ]
  },
  {
   "cell_type": "markdown",
   "metadata": {
    "slideshow": {
     "slide_type": "subslide"
    }
   },
   "source": [
    "The private key remains on your local computer and you have to make sure that it is safe -- it is a simple text file and it is your password now, and everyone who has your private key can access your files. Again, everyone who has your private key has your password!"
   ]
  },
  {
   "cell_type": "markdown",
   "metadata": {
    "slideshow": {
     "slide_type": "subslide"
    }
   },
   "source": [
    "This is what my *public key* looks like:\n",
    "\n",
    "    ssh-rsa\n",
    "    AAAAB3NzaC1yc2EAAAABIwAAAQEAyOQ9RT6TkfgkdO2NspzdVJE5CZ03yYAhVwLGo\n",
    "    CrI3E9/Ix0MAySunXExjhsQi2XkhPBjLOEahYuuLaAWHuBc7apUPRNSBy+mdUHnH3\n",
    "    0BdTQijQ6vj3RL99HO4yrZnipIlkS5ufw/+hpbXXOzSOqTvyGtL9ygm3eA2HDSQtz\n",
    "    2ptFq8anODJDKrgTbNLb/YZ9KDIcpdO/Sfk4LtvaGF3tIFlyE+pogNmN4eWiYg9Xv\n",
    "    25BhVVxWMHadRFLeDastWO4SedriEHzQYaNgxVNTufqolJ0nbg4R//fVDxjR2SbzV\n",
    "    AHLZ+eVPUx+vzcPVMP9wYPcnii9YLiSRy+hlUAOR/kXeQ== berndweiss"
   ]
  },
  {
   "cell_type": "markdown",
   "metadata": {
    "slideshow": {
     "slide_type": "subslide"
    }
   },
   "source": [
    "::::{important}\n",
    "\n",
    "The *public key* (not the private key!) has to be stored at the GitHub/GitLab/... website. Now, everyone who has your public key can encrypt files (that are sent to you via the internet) but only you (or anyone else who has your private key) can decrypt the files. And, for that reasons you do not have to login everytime you push/pull files from the remote repository. \n",
    "\n",
    "::::"
   ]
  },
  {
   "cell_type": "markdown",
   "metadata": {
    "slideshow": {
     "slide_type": "subslide"
    }
   },
   "source": [
    "- How to setup SSH on you computer is explained on this website: https://docs.gitlab.com/ce/ssh/README.html (\"Generate an SSH key pair\")\n",
    "\n",
    "- The most important point is that `ssh` is able to find your key pair, i.e., it needs to be located in your HOME folder"
   ]
  },
  {
   "cell_type": "markdown",
   "metadata": {
    "slideshow": {
     "slide_type": "subslide"
    }
   },
   "source": [
    "If everything works well, you should receive the following friendly welcome message after typing in the command `ssh -T git@git.gesis.org`:\n",
    "\n",
    "> Welcome to GitLab, [your username]"
   ]
  },
  {
   "cell_type": "markdown",
   "metadata": {
    "slideshow": {
     "slide_type": "slide"
    }
   },
   "source": [
    "## Basic workflow"
   ]
  },
  {
   "cell_type": "markdown",
   "metadata": {},
   "source": [
    "### Setting up a Git repository\n",
    "\n",
    "Usually, there are two ways to set up/obtain a Git repository:\n",
    "\n",
    "1. You create a new Git repository, push it to GitHub/GitLab and start collaborating with your colleagues (or only yourself)\n",
    "\n",
    "2. You \"clone\" an existing repository from a remote Git server such as GitHub/GitLab (for more details see section [](git:remote))"
   ]
  },
  {
   "cell_type": "markdown",
   "metadata": {
    "slideshow": {
     "slide_type": "slide"
    }
   },
   "source": [
    "### Creating a local Git repository "
   ]
  },
  {
   "cell_type": "markdown",
   "metadata": {
    "slideshow": {
     "slide_type": "subslide"
    }
   },
   "source": [
    "The first step is to create a Git repository. After the repository has been created, we need to tell `git` which files will be subject to version control. So, the following git commands will be utilized:\n",
    "\n",
    "- `git init`: Creates a new folder `.git`, which contains configuration files and the repository. As of now, `git` does not know anything about our file(s), e.g. `test.txt`\n",
    "\n",
    "- From now on, all examples will refer to a demo repository called `git_test_folder`"
   ]
  },
  {
   "cell_type": "markdown",
   "metadata": {
    "slideshow": {
     "slide_type": "subslide"
    }
   },
   "source": [
    "The content of `git_test_folder` is"
   ]
  },
  {
   "cell_type": "code",
   "execution_count": 126,
   "metadata": {
    "slideshow": {
     "slide_type": "fragment"
    }
   },
   "outputs": [
    {
     "name": "stdout",
     "output_type": "stream",
     "text": [
      "total 9\n",
      "drwxr-xr-x 1 weissbd DomÃ¤nen-Benutzer   0 Nov 16 19:51 .\n",
      "drwxr-xr-x 1 weissbd DomÃ¤nen-Benutzer   0 Nov 16 19:51 ..\n",
      "-rw-r--r-- 1 weissbd DomÃ¤nen-Benutzer 160 Nov 16 19:51 test.txt\n"
     ]
    }
   ],
   "source": [
    "!ls -la"
   ]
  },
  {
   "cell_type": "markdown",
   "metadata": {
    "slideshow": {
     "slide_type": "slide"
    }
   },
   "source": [
    "And, `test.txt` contains the following content: "
   ]
  },
  {
   "cell_type": "code",
   "execution_count": 127,
   "metadata": {
    "slideshow": {
     "slide_type": "fragment"
    }
   },
   "outputs": [
    {
     "name": "stdout",
     "output_type": "stream",
     "text": [
      "l1: Branch: master\n",
      "l2: Author: BW\n",
      "l3: // Always start with a dumb comment:\n",
      "l4: use my_fancy_data.dta, clear\n",
      "l5: gen v1 = 1\n",
      "l6: gen v2 = v1 + 1\n",
      "l7: mean v1\n"
     ]
    }
   ],
   "source": [
    "!cat test.txt"
   ]
  },
  {
   "cell_type": "markdown",
   "metadata": {
    "slideshow": {
     "slide_type": "slide"
    }
   },
   "source": [
    "Now, let's initialize the Git repository using the `git init` command."
   ]
  },
  {
   "cell_type": "code",
   "execution_count": 128,
   "metadata": {
    "scrolled": true,
    "slideshow": {
     "slide_type": "fragment"
    }
   },
   "outputs": [
    {
     "name": "stdout",
     "output_type": "stream",
     "text": [
      "Initialized empty Git repository in /e/syncwork/projects/confer/ps2021-10-ws-repro-research/src/bw/git_test_folder/.git/\n"
     ]
    }
   ],
   "source": [
    "!git init"
   ]
  },
  {
   "cell_type": "markdown",
   "metadata": {
    "slideshow": {
     "slide_type": "slide"
    }
   },
   "source": [
    "### The status of a repository (`git status`)"
   ]
  },
  {
   "cell_type": "markdown",
   "metadata": {
    "slideshow": {
     "slide_type": "slide"
    }
   },
   "source": [
    "Before we start doing anything, let's check the status of our newly created repository using the command `git status`. It shows the status of the currect working tree, the main one is called `master`. As of now, `git` is not aware of any files yet, so it informs us about the existance of 'Untracked files: ...'."
   ]
  },
  {
   "cell_type": "code",
   "execution_count": 129,
   "metadata": {
    "slideshow": {
     "slide_type": "fragment"
    }
   },
   "outputs": [
    {
     "name": "stdout",
     "output_type": "stream",
     "text": [
      "On branch main\n",
      "\n",
      "No commits yet\n",
      "\n",
      "Untracked files:\n",
      "  (use \"git add <file>...\" to include in what will be committed)\n",
      "\ttest.txt\n",
      "\n",
      "nothing added to commit but untracked files present (use \"git add\" to track)\n"
     ]
    }
   ],
   "source": [
    "!git status"
   ]
  },
  {
   "cell_type": "markdown",
   "metadata": {
    "slideshow": {
     "slide_type": "slide"
    }
   },
   "source": [
    "### Adding files to a git repository: `git add` and `git commit`"
   ]
  },
  {
   "cell_type": "markdown",
   "metadata": {
    "slideshow": {
     "slide_type": "slide"
    }
   },
   "source": [
    "Now it is time for some file action by adding (a) file(s) to our repository. "
   ]
  },
  {
   "cell_type": "markdown",
   "metadata": {
    "slideshow": {
     "slide_type": "slide"
    }
   },
   "source": [
    "In the previous section on `git status` it was recommended that `git add` is used to add files to the git repository:\n",
    "\n",
    "    (use \"git add <file>...\" to include in what will be committed)\n",
    "\n",
    "That is what we are going to do now: To actually 'save' (check-in or track) files in the repository, a *two-step* procedure needs to be performed. "
   ]
  },
  {
   "cell_type": "markdown",
   "metadata": {
    "slideshow": {
     "slide_type": "slide"
    }
   },
   "source": [
    "The first step is to call `git add`, the second step is to commit the file(s) using `git commit`. For now, it might be hard to see the benefit of this two-step procedure, see http://gitolite.com/uses-of-index.html for a thorough description. \n",
    "\n",
    "- `git add -A` : Adds (here ´-A´ means \"all files\") files to the *index* (or staging area). \n",
    "- To add a particilar files to the index, use `git add my_special_file.do`. "
   ]
  },
  {
   "cell_type": "code",
   "execution_count": 130,
   "metadata": {
    "jupyter": {
     "outputs_hidden": true
    },
    "slideshow": {
     "slide_type": "fragment"
    }
   },
   "outputs": [],
   "source": [
    "!git add -A"
   ]
  },
  {
   "cell_type": "code",
   "execution_count": 131,
   "metadata": {
    "slideshow": {
     "slide_type": "slide"
    }
   },
   "outputs": [
    {
     "name": "stdout",
     "output_type": "stream",
     "text": [
      "On branch main\n",
      "\n",
      "No commits yet\n",
      "\n",
      "Changes to be committed:\n",
      "  (use \"git rm --cached <file>...\" to unstage)\n",
      "\tnew file:   test.txt\n",
      "\n"
     ]
    }
   ],
   "source": [
    "!git status"
   ]
  },
  {
   "cell_type": "markdown",
   "metadata": {
    "slideshow": {
     "slide_type": "slide"
    }
   },
   "source": [
    "The second step is to run the command `git commit -m \"your text, verbs in imperative form\"` (see below), e.g. `git commit -m \"add function to compute tau^2\"`. Since this is my first commit, I always apply the following commit message: `git commit -m \"initial commit`. "
   ]
  },
  {
   "cell_type": "markdown",
   "metadata": {
    "slideshow": {
     "slide_type": "slide"
    }
   },
   "source": [
    "According to https://git.kernel.org/pub/scm/git/git.git/tree/Documentation/SubmittingPatches?id=HEAD#n133 commit messages should follow the \"imperative-style\": \n",
    "\n",
    "> \"Describe your changes in imperative mood, e.g. \"make xyzzy do frotz\" instead of \"[This patch] makes xyzzy do frotz\" or \"[I] \n",
    "> changed xyzzy to do frotz\", as if you are giving orders to the codebase to change its behavior. Try to make sure your \n",
    "> explanation can be understood without external resources. Instead of giving a URL to a mailing list archive, summarize the \n",
    "> relevant points of the discussion.\""
   ]
  },
  {
   "cell_type": "code",
   "execution_count": 132,
   "metadata": {
    "slideshow": {
     "slide_type": "slide"
    }
   },
   "outputs": [
    {
     "name": "stdout",
     "output_type": "stream",
     "text": [
      "[main (root-commit) c738dc5] Initial commit\n",
      " 1 file changed, 7 insertions(+)\n",
      " create mode 100644 test.txt\n"
     ]
    }
   ],
   "source": [
    "!git commit -m \"Initial commit\""
   ]
  },
  {
   "cell_type": "markdown",
   "metadata": {
    "slideshow": {
     "slide_type": "slide"
    }
   },
   "source": [
    "Again, let's see what `git status` reports:"
   ]
  },
  {
   "cell_type": "code",
   "execution_count": 133,
   "metadata": {
    "slideshow": {
     "slide_type": "slide"
    }
   },
   "outputs": [
    {
     "name": "stdout",
     "output_type": "stream",
     "text": [
      "On branch main\n",
      "nothing to commit, working tree clean\n"
     ]
    }
   ],
   "source": [
    "!git status"
   ]
  },
  {
   "cell_type": "markdown",
   "metadata": {
    "slideshow": {
     "slide_type": "slide"
    }
   },
   "source": [
    "So, there are no untracked files, that is, \"nothing to commit, working directory clean\". "
   ]
  },
  {
   "cell_type": "markdown",
   "metadata": {
    "slideshow": {
     "slide_type": "slide"
    }
   },
   "source": [
    "### Viewing Git's commit history: `git log`"
   ]
  },
  {
   "cell_type": "markdown",
   "metadata": {
    "slideshow": {
     "slide_type": "slide"
    }
   },
   "source": [
    "There is another useful command `git log` that informs about `git`'s history, i.e. commited files and folders:"
   ]
  },
  {
   "cell_type": "code",
   "execution_count": 134,
   "metadata": {
    "slideshow": {
     "slide_type": "slide"
    }
   },
   "outputs": [
    {
     "name": "stdout",
     "output_type": "stream",
     "text": [
      "commit c738dc53a725df10a0dc9b3a3de3c46be37579d0\n",
      "Author: Bernd Weiss <spam@metaanalyse.de>\n",
      "Date:   Tue Nov 16 19:51:10 2021 +0100\n",
      "\n",
      "    Initial commit\n"
     ]
    }
   ],
   "source": [
    "!git log"
   ]
  },
  {
   "cell_type": "markdown",
   "metadata": {
    "slideshow": {
     "slide_type": "slide"
    }
   },
   "source": [
    "Right now, the history only contains one entry. The very first line `commit ...` shows the SHA1 hash. The 'Secure Hash Algorithm 1' is used to calculate this long, hexadecimal number for a file. Files with identical content are representet by an identical SHA1 hash, files with different content do not share an identical SHA1 hash. Using these SHA1 numbers, `git` can identify changes in a file. "
   ]
  },
  {
   "cell_type": "markdown",
   "metadata": {
    "slideshow": {
     "slide_type": "slide"
    }
   },
   "source": [
    "Let's start changing the content of text.txt. For instance, remove line 3 (`// Always start with a dumb comment:`). First, let's print the original file content again:"
   ]
  },
  {
   "cell_type": "code",
   "execution_count": 135,
   "metadata": {
    "slideshow": {
     "slide_type": "slide"
    }
   },
   "outputs": [
    {
     "name": "stdout",
     "output_type": "stream",
     "text": [
      "l1: Branch: master\n",
      "l2: Author: BW\n",
      "l3: // Always start with a dumb comment:\n",
      "l4: use my_fancy_data.dta, clear\n",
      "l5: gen v1 = 1\n",
      "l6: gen v2 = v1 + 1\n",
      "l7: mean v1\n"
     ]
    }
   ],
   "source": [
    "print_file(\"test.txt\")"
   ]
  },
  {
   "cell_type": "markdown",
   "metadata": {
    "slideshow": {
     "slide_type": "slide"
    }
   },
   "source": [
    "Here is some Python code that removes the comment line."
   ]
  },
  {
   "cell_type": "code",
   "execution_count": 136,
   "metadata": {
    "jupyter": {
     "outputs_hidden": true
    },
    "slideshow": {
     "slide_type": "slide"
    }
   },
   "outputs": [],
   "source": [
    "remove_line(\"test.txt\", 3)"
   ]
  },
  {
   "cell_type": "markdown",
   "metadata": {
    "slideshow": {
     "slide_type": "slide"
    }
   },
   "source": [
    "Print out the new code file (remember, the comment line has been removed). "
   ]
  },
  {
   "cell_type": "code",
   "execution_count": 137,
   "metadata": {
    "slideshow": {
     "slide_type": "slide"
    }
   },
   "outputs": [
    {
     "name": "stdout",
     "output_type": "stream",
     "text": [
      "l1: Branch: master\n",
      "l2: Author: BW\n",
      "l4: use my_fancy_data.dta, clear\n",
      "l5: gen v1 = 1\n",
      "l6: gen v2 = v1 + 1\n",
      "l7: mean v1\n"
     ]
    }
   ],
   "source": [
    "f = open(\"test.txt\", \"r\")\n",
    "print(f.read())\n",
    "f.close()"
   ]
  },
  {
   "cell_type": "markdown",
   "metadata": {
    "slideshow": {
     "slide_type": "slide"
    }
   },
   "source": [
    "Again, let's check `git status` to see what our repository is doing and what has changed..."
   ]
  },
  {
   "cell_type": "code",
   "execution_count": 138,
   "metadata": {
    "slideshow": {
     "slide_type": "slide"
    }
   },
   "outputs": [
    {
     "name": "stdout",
     "output_type": "stream",
     "text": [
      "On branch main\n",
      "Changes not staged for commit:\n",
      "  (use \"git add <file>...\" to update what will be committed)\n",
      "  (use \"git restore <file>...\" to discard changes in working directory)\n",
      "\tmodified:   test.txt\n",
      "\n",
      "no changes added to commit (use \"git add\" and/or \"git commit -a\")\n"
     ]
    }
   ],
   "source": [
    "!git status"
   ]
  },
  {
   "cell_type": "markdown",
   "metadata": {},
   "source": [
    "(git:exercise1)=\n",
    "### Exercise\n",
    "\n",
    "- Open your Git Bash\n",
    "\n",
    "- Go to your Home directory via `cd ~` (or, actually, go wherever you want)\n",
    "\n",
    "- Create a new folder (either via `mkdir` or `create-project.sh`)\n",
    "\n",
    "- Change into the newly created directory via `<your input here>`\n",
    "\n",
    "- Initialize your new Git project via `git init`\n",
    "\n",
    "- Copy a few files (PDF files etc. -- does not really matter, but no sensitive material!) in your new project folder\n",
    "\n",
    "- What comes next? Hint: `git add` and then `git commit <your input>`\n",
    "\n",
    "- Check the status and the history of your Git repository\n",
    "\n",
    "- **PLEASE do not delete the repository, we will need it for a later exercise!**"
   ]
  },
  {
   "cell_type": "markdown",
   "metadata": {
    "slideshow": {
     "slide_type": "slide"
    }
   },
   "source": [
    "### Undo changes / Going back in Git's history"
   ]
  },
  {
   "cell_type": "markdown",
   "metadata": {
    "slideshow": {
     "slide_type": "slide"
    }
   },
   "source": [
    "- Undoing changes can be done utilizing three different approaches (`git checkout`, `git revert`, `git reset`)\n",
    "- Depends on the state of your working directory (clean or uncommitted changes)\n",
    "- A pragmatic approach is to utilize the search funtionalities of a web platform such as GitHub or GitLab\n",
    "- Here, only some basics will be introduced, further information is provided by https://www.atlassian.com/git/tutorials/undoing-changes or https://git-scm.com/book/en/v2/Git-Basics-Undoing-Things"
   ]
  },
  {
   "cell_type": "markdown",
   "metadata": {},
   "source": [
    "#### git checkout"
   ]
  },
  {
   "cell_type": "markdown",
   "metadata": {
    "slideshow": {
     "slide_type": "slide"
    }
   },
   "source": [
    "- In order to undo (a) uncommitted changes or (b) going back to an earlier commit, respectively, the command `git checkout` can be utilized\n",
    "\n",
    "- You have multiple possibilities to undo changes. You can undo changes regarding a particular file or you can go back to an earlier commit, which may contain multiple changes (not a good practice, though)\n",
    "\n",
    "- `git checkout -- myfile` will discard all changes with respect to `myfile`\n",
    "\n",
    "- `git checkout -- .` (or use `git restore .`) will discard all changes in your working directory, which can include multiple files (remember the dot `.`, see section [](cli:wd-relative-path))"
   ]
  },
  {
   "cell_type": "markdown",
   "metadata": {},
   "source": [
    "- Now, let's discard all (uncommitted) changes that we made to file `text.txt` and recover the lost line 3:"
   ]
  },
  {
   "cell_type": "code",
   "execution_count": 139,
   "metadata": {},
   "outputs": [
    {
     "name": "stdout",
     "output_type": "stream",
     "text": [
      "On branch main\n",
      "Changes not staged for commit:\n",
      "  (use \"git add <file>...\" to update what will be committed)\n",
      "  (use \"git restore <file>...\" to discard changes in working directory)\n",
      "\tmodified:   test.txt\n",
      "\n",
      "no changes added to commit (use \"git add\" and/or \"git commit -a\")\n"
     ]
    }
   ],
   "source": [
    "!git status "
   ]
  },
  {
   "cell_type": "code",
   "execution_count": 140,
   "metadata": {},
   "outputs": [
    {
     "name": "stdout",
     "output_type": "stream",
     "text": [
      "l1: Branch: master\n",
      "l2: Author: BW\n",
      "l4: use my_fancy_data.dta, clear\n",
      "l5: gen v1 = 1\n",
      "l6: gen v2 = v1 + 1\n",
      "l7: mean v1\n"
     ]
    }
   ],
   "source": [
    "# Check again the content of test.txt; line 3 should be missing.\n",
    "!cat test.txt"
   ]
  },
  {
   "cell_type": "code",
   "execution_count": 141,
   "metadata": {
    "jupyter": {
     "outputs_hidden": true
    }
   },
   "outputs": [],
   "source": [
    "!git checkout -- test.txt"
   ]
  },
  {
   "cell_type": "markdown",
   "metadata": {},
   "source": [
    "Voilà, our beloved comment (line 3) has been risen from the dead..."
   ]
  },
  {
   "cell_type": "code",
   "execution_count": 142,
   "metadata": {},
   "outputs": [
    {
     "name": "stdout",
     "output_type": "stream",
     "text": [
      "l1: Branch: master\n",
      "l2: Author: BW\n",
      "l3: // Always start with a dumb comment:\n",
      "l4: use my_fancy_data.dta, clear\n",
      "l5: gen v1 = 1\n",
      "l6: gen v2 = v1 + 1\n",
      "l7: mean v1\n"
     ]
    }
   ],
   "source": [
    "print_file(\"test.txt\")"
   ]
  },
  {
   "cell_type": "markdown",
   "metadata": {
    "tags": [
     "remove-cell"
    ]
   },
   "source": [
    "Okay, let's again modify test.txt. Now, we do this two times. I will use M1 and M2 to denote these two changes."
   ]
  },
  {
   "cell_type": "code",
   "execution_count": 143,
   "metadata": {
    "tags": [
     "remove-cell"
    ]
   },
   "outputs": [
    {
     "name": "stdout",
     "output_type": "stream",
     "text": [
      "On branch main\n",
      "Changes not staged for commit:\n",
      "  (use \"git add <file>...\" to update what will be committed)\n",
      "  (use \"git restore <file>...\" to discard changes in working directory)\n",
      "\tmodified:   test.txt\n",
      "\n",
      "no changes added to commit (use \"git add\" and/or \"git commit -a\")\n",
      "[main 248a19c] add new line (M1)\n",
      " 1 file changed, 2 insertions(+), 1 deletion(-)\n"
     ]
    }
   ],
   "source": [
    "replace_text(\"test.txt\", \"Branch:\", \"M1: New line added\\nBranch:\")\n",
    "!git status\n",
    "!git add . -A\n",
    "!git commit -m \"add new line (M1)\""
   ]
  },
  {
   "cell_type": "code",
   "execution_count": 144,
   "metadata": {
    "tags": [
     "remove-cell"
    ]
   },
   "outputs": [
    {
     "name": "stdout",
     "output_type": "stream",
     "text": [
      "l1: M1: New line added\n",
      "Branch: master\n",
      "l2: Author: BW\n",
      "l3: // Always start with a dumb comment:\n",
      "l4: use my_fancy_data.dta, clear\n",
      "l5: gen v1 = 1\n",
      "l6: gen v2 = v1 + 1\n",
      "l7: mean v1\n"
     ]
    }
   ],
   "source": [
    "print_file(\"test.txt\")"
   ]
  },
  {
   "cell_type": "code",
   "execution_count": 145,
   "metadata": {
    "tags": [
     "remove-cell"
    ]
   },
   "outputs": [
    {
     "name": "stdout",
     "output_type": "stream",
     "text": [
      "On branch main\n",
      "Changes not staged for commit:\n",
      "  (use \"git add <file>...\" to update what will be committed)\n",
      "  (use \"git restore <file>...\" to discard changes in working directory)\n",
      "\tmodified:   test.txt\n",
      "\n",
      "no changes added to commit (use \"git add\" and/or \"git commit -a\")\n",
      "[main 36ce985] add new comment (M2)\n",
      " 1 file changed, 2 insertions(+), 1 deletion(-)\n"
     ]
    }
   ],
   "source": [
    "replace_text(\"test.txt\", \"mean v1\", \"// M2: A new comment.\\nmean v1\")\n",
    "\n",
    "!git status\n",
    "!git add . -A\n",
    "!git commit -m \"add new comment (M2)\""
   ]
  },
  {
   "cell_type": "markdown",
   "metadata": {
    "tags": [
     "remove-cell"
    ]
   },
   "source": [
    "Again, print new content of `test.txt`."
   ]
  },
  {
   "cell_type": "code",
   "execution_count": 146,
   "metadata": {
    "tags": [
     "remove-cell"
    ]
   },
   "outputs": [
    {
     "name": "stdout",
     "output_type": "stream",
     "text": [
      "l1: M1: New line added\n",
      "Branch: master\n",
      "l2: Author: BW\n",
      "l3: // Always start with a dumb comment:\n",
      "l4: use my_fancy_data.dta, clear\n",
      "l5: gen v1 = 1\n",
      "l6: gen v2 = v1 + 1\n",
      "l7: // M2: A new comment.\n",
      "mean v1\n"
     ]
    }
   ],
   "source": [
    "print_file(\"test.txt\")"
   ]
  },
  {
   "cell_type": "markdown",
   "metadata": {},
   "source": [
    "For more information see https://www.atlassian.com/git/tutorials/using-branches/git-checkout"
   ]
  },
  {
   "cell_type": "markdown",
   "metadata": {},
   "source": [
    "#### git revert"
   ]
  },
  {
   "cell_type": "markdown",
   "metadata": {},
   "source": [
    "Put simply: `git revert` can undo a certain commit\n",
    "\n",
    "For more information see https://www.atlassian.com/git/tutorials/undoing-changes/git-revert"
   ]
  },
  {
   "cell_type": "markdown",
   "metadata": {},
   "source": [
    "#### git reset"
   ]
  },
  {
   "cell_type": "markdown",
   "metadata": {},
   "source": [
    "Put simply: `git reset` goes back to a certain commit and discards all later commits \n",
    "\n",
    "For more information see https://www.atlassian.com/git/tutorials/undoing-changes/git-reset"
   ]
  },
  {
   "cell_type": "markdown",
   "metadata": {},
   "source": [
    "### What has changed at the file level? `git show` and `git diff`"
   ]
  },
  {
   "cell_type": "markdown",
   "metadata": {},
   "source": [
    "In this chapter we will learn about `git show` and `git diff`, which show differences at the file level. However, for those of you who do not feel comfortable using the command line I highly recommend meld (http://meldmerge.org/)."
   ]
  },
  {
   "cell_type": "markdown",
   "metadata": {},
   "source": [
    "So far, we have only a few commits. `git log` shows all commits, the SHA1 hash and the respective commit message. "
   ]
  },
  {
   "cell_type": "code",
   "execution_count": 147,
   "metadata": {},
   "outputs": [
    {
     "name": "stdout",
     "output_type": "stream",
     "text": [
      "commit 36ce985514e7f6ff44b134274c4a066c2165245a\n",
      "Author: Bernd Weiss <spam@metaanalyse.de>\n",
      "Date:   Tue Nov 16 19:51:12 2021 +0100\n",
      "\n",
      "    add new comment (M2)\n",
      "\n",
      "commit 248a19cbb7e42aec188151ba2d5ee2491345156e\n",
      "Author: Bernd Weiss <spam@metaanalyse.de>\n",
      "Date:   Tue Nov 16 19:51:12 2021 +0100\n",
      "\n",
      "    add new line (M1)\n",
      "\n",
      "commit c738dc53a725df10a0dc9b3a3de3c46be37579d0\n",
      "Author: Bernd Weiss <spam@metaanalyse.de>\n",
      "Date:   Tue Nov 16 19:51:10 2021 +0100\n",
      "\n",
      "    Initial commit\n"
     ]
    }
   ],
   "source": [
    "!git log"
   ]
  },
  {
   "cell_type": "markdown",
   "metadata": {},
   "source": [
    "#### A brief intro to the unified diff format"
   ]
  },
  {
   "cell_type": "markdown",
   "metadata": {},
   "source": [
    "Using `git show` without any additional arguments shows the differences between the last commit and HEAD. The output follows the so called \"unified diff format\" (UDF). A good introduction of UDF ist provided by https://www.gnu.org/software/diffutils/manual/html_node/Detailed-Unified.html#Detailed-Unified. The following is mostly copy-and-paste from the aforementioned source. It is also imported to note that UDF utilizes so-called (c)hunks to describe changes. A hunk is a paragraph separated by an empty line. "
   ]
  },
  {
   "cell_type": "markdown",
   "metadata": {},
   "source": [
    "#### `git show` "
   ]
  },
  {
   "cell_type": "code",
   "execution_count": 148,
   "metadata": {},
   "outputs": [
    {
     "name": "stdout",
     "output_type": "stream",
     "text": [
      "commit 36ce985514e7f6ff44b134274c4a066c2165245a\n",
      "Author: Bernd Weiss <spam@metaanalyse.de>\n",
      "Date:   Tue Nov 16 19:51:12 2021 +0100\n",
      "\n",
      "    add new comment (M2)\n",
      "\n",
      "diff --git a/test.txt b/test.txt\n",
      "index ed73d1e..32af706 100644\n",
      "--- a/test.txt\n",
      "+++ b/test.txt\n",
      "@@ -5,4 +5,5 @@ l3: // Always start with a dumb comment:\n",
      " l4: use my_fancy_data.dta, clear\n",
      " l5: gen v1 = 1\n",
      " l6: gen v2 = v1 + 1\n",
      "-l7: mean v1\n",
      "\\ No newline at end of file\n",
      "+l7: // M2: A new comment.\n",
      "+mean v1\n",
      "\\ No newline at end of file\n"
     ]
    }
   ],
   "source": [
    "!git show"
   ]
  },
  {
   "cell_type": "markdown",
   "metadata": {},
   "source": [
    "Frankly, I go to GitHub or GitLab and check the respective differences between files..."
   ]
  },
  {
   "cell_type": "markdown",
   "metadata": {},
   "source": [
    "![](fig/fig_git-diff.png)"
   ]
  },
  {
   "cell_type": "markdown",
   "metadata": {},
   "source": [
    "### Branching"
   ]
  },
  {
   "cell_type": "markdown",
   "metadata": {},
   "source": [
    "- In addition to being a powerful undo function, git also allows you to \"toy around\" with different \"versions\" of your text or code \n",
    "\n",
    "- Let's assume that you wrote a first draft of a Stata program (macro). Everything works as expected. From a programming perspective, though, the program is just ugly and it is therefore quite hard to add additional functionalities. \n",
    "\n",
    "- What I used to do was: save my original file as `my-great-program.do` and start working on a new version of the program using a file called `my-great-program_new.do`\n",
    "\n",
    "- This is not necessary with `git branch`"
   ]
  },
  {
   "cell_type": "markdown",
   "metadata": {},
   "source": [
    "Let's start with a list of files that are currently in my project folder:"
   ]
  },
  {
   "cell_type": "code",
   "execution_count": 149,
   "metadata": {},
   "outputs": [
    {
     "name": "stdout",
     "output_type": "stream",
     "text": [
      "total 13\n",
      "drwxr-xr-x 1 weissbd DomÃ¤nen-Benutzer   0 Nov 16 19:51 .\n",
      "drwxr-xr-x 1 weissbd DomÃ¤nen-Benutzer   0 Nov 16 19:51 ..\n",
      "drwxr-xr-x 1 weissbd DomÃ¤nen-Benutzer   0 Nov 16 19:51 .git\n",
      "-rw-r--r-- 1 weissbd DomÃ¤nen-Benutzer 203 Nov 16 19:51 test.txt\n"
     ]
    }
   ],
   "source": [
    "!ls -la"
   ]
  },
  {
   "cell_type": "code",
   "execution_count": 150,
   "metadata": {},
   "outputs": [
    {
     "name": "stdout",
     "output_type": "stream",
     "text": [
      "On branch main\n",
      "nothing to commit, working tree clean\n"
     ]
    }
   ],
   "source": [
    "!git status"
   ]
  },
  {
   "cell_type": "markdown",
   "metadata": {},
   "source": [
    "What branches are available? Once we have more than one branch, the `*` shows which branch is active (or: in wich branch we are in)"
   ]
  },
  {
   "cell_type": "code",
   "execution_count": 151,
   "metadata": {},
   "outputs": [
    {
     "name": "stdout",
     "output_type": "stream",
     "text": [
      "* main\n"
     ]
    }
   ],
   "source": [
    "!git branch"
   ]
  },
  {
   "cell_type": "markdown",
   "metadata": {},
   "source": [
    "Create a new branch called `testing`"
   ]
  },
  {
   "cell_type": "code",
   "execution_count": 152,
   "metadata": {},
   "outputs": [],
   "source": [
    "!git branch testing"
   ]
  },
  {
   "cell_type": "code",
   "execution_count": 153,
   "metadata": {},
   "outputs": [
    {
     "name": "stdout",
     "output_type": "stream",
     "text": [
      "* main\n",
      "  testing\n"
     ]
    }
   ],
   "source": [
    "!git branch"
   ]
  },
  {
   "cell_type": "markdown",
   "metadata": {},
   "source": [
    "How do we get into the `testing` branch? Use `git checkout testing`"
   ]
  },
  {
   "cell_type": "code",
   "execution_count": 154,
   "metadata": {},
   "outputs": [
    {
     "name": "stderr",
     "output_type": "stream",
     "text": [
      "Switched to branch 'testing'\n"
     ]
    },
    {
     "name": "stdout",
     "output_type": "stream",
     "text": [
      "  main\n",
      "* testing\n"
     ]
    }
   ],
   "source": [
    "!git checkout testing\n",
    "!git branch"
   ]
  },
  {
   "cell_type": "markdown",
   "metadata": {},
   "source": [
    "Create a new file `testingfile`"
   ]
  },
  {
   "cell_type": "code",
   "execution_count": 155,
   "metadata": {},
   "outputs": [
    {
     "name": "stdout",
     "output_type": "stream",
     "text": [
      "total 14\n",
      "drwxr-xr-x 1 weissbd DomÃ¤nen-Benutzer   0 Nov 16 19:51 .\n",
      "drwxr-xr-x 1 weissbd DomÃ¤nen-Benutzer   0 Nov 16 19:51 ..\n",
      "drwxr-xr-x 1 weissbd DomÃ¤nen-Benutzer   0 Nov 16 19:51 .git\n",
      "-rw-r--r-- 1 weissbd DomÃ¤nen-Benutzer 203 Nov 16 19:51 test.txt\n",
      "-rw-r--r-- 1 weissbd DomÃ¤nen-Benutzer  15 Nov 16 19:51 testingfile\n"
     ]
    }
   ],
   "source": [
    "!touch testingfile\n",
    "!echo \"in testing\" > testingfile\n",
    "!ls -la"
   ]
  },
  {
   "cell_type": "code",
   "execution_count": 156,
   "metadata": {},
   "outputs": [
    {
     "name": "stdout",
     "output_type": "stream",
     "text": [
      "\"in testing\" \n"
     ]
    }
   ],
   "source": [
    "!cat testingfile"
   ]
  },
  {
   "cell_type": "code",
   "execution_count": 157,
   "metadata": {},
   "outputs": [
    {
     "name": "stdout",
     "output_type": "stream",
     "text": [
      "[testing 8025853] new branch testing\n",
      " 1 file changed, 1 insertion(+)\n",
      " create mode 100644 testingfile\n"
     ]
    }
   ],
   "source": [
    "!git add testingfile\n",
    "!git commit -m \"new branch testing\""
   ]
  },
  {
   "cell_type": "markdown",
   "metadata": {},
   "source": [
    "Switch back to branch `main` (and `cat testingfile` should result in an error message, since there is no `testingfile` in branch `main`)"
   ]
  },
  {
   "cell_type": "code",
   "execution_count": 158,
   "metadata": {},
   "outputs": [
    {
     "name": "stderr",
     "output_type": "stream",
     "text": [
      "Switched to branch 'main'\n",
      "cat: testingfile: No such file or directory\n"
     ]
    }
   ],
   "source": [
    "!git checkout main\n",
    "!cat testingfile"
   ]
  },
  {
   "cell_type": "markdown",
   "metadata": {},
   "source": [
    "Now, we can use `merge` to combine `main` and `testing`"
   ]
  },
  {
   "cell_type": "code",
   "execution_count": 159,
   "metadata": {},
   "outputs": [
    {
     "name": "stdout",
     "output_type": "stream",
     "text": [
      "Updating 36ce985..8025853\n",
      "Fast-forward\n",
      " testingfile | 1 +\n",
      " 1 file changed, 1 insertion(+)\n",
      " create mode 100644 testingfile\n"
     ]
    }
   ],
   "source": [
    "!git merge testing"
   ]
  },
  {
   "cell_type": "code",
   "execution_count": 160,
   "metadata": {},
   "outputs": [
    {
     "name": "stdout",
     "output_type": "stream",
     "text": [
      "total 14\n",
      "drwxr-xr-x 1 weissbd DomÃ¤nen-Benutzer   0 Nov 16 19:51 .\n",
      "drwxr-xr-x 1 weissbd DomÃ¤nen-Benutzer   0 Nov 16 19:51 ..\n",
      "drwxr-xr-x 1 weissbd DomÃ¤nen-Benutzer   0 Nov 16 19:51 .git\n",
      "-rw-r--r-- 1 weissbd DomÃ¤nen-Benutzer 203 Nov 16 19:51 test.txt\n",
      "-rw-r--r-- 1 weissbd DomÃ¤nen-Benutzer  15 Nov 16 19:51 testingfile\n"
     ]
    }
   ],
   "source": [
    "!ls -la"
   ]
  },
  {
   "cell_type": "code",
   "execution_count": 161,
   "metadata": {},
   "outputs": [
    {
     "name": "stdout",
     "output_type": "stream",
     "text": [
      "\"in testing\" \n"
     ]
    }
   ],
   "source": [
    "!cat testingfile"
   ]
  },
  {
   "cell_type": "markdown",
   "metadata": {},
   "source": [
    "(git:remote)=\n",
    "## Working with remote repositories"
   ]
  },
  {
   "cell_type": "markdown",
   "metadata": {},
   "source": [
    "As mentioned in the introduction, git is especially powerful when it comes to collaborative work. In order to work with others, you need some sort of connetion to these other person(s). The one I am discussing here is having a central repository C. Let us assume that you (x) have two other collaborators y and z. Then x (that's you), as well as y and z need to synchronise with the same repository C. There also exists another model which is based on a decentralized approach, where you could indivdually sync with x-y, x-z, y-z etc.  "
   ]
  },
  {
   "cell_type": "markdown",
   "metadata": {},
   "source": [
    "### Establishing a connection to a remote repository"
   ]
  },
  {
   "cell_type": "markdown",
   "metadata": {},
   "source": [
    "There are two ways to establish a connection to a remote repository:\n",
    "  1. Clone a remote repository via `git clone ...`.\n",
    "  2. Setting up a new remote repository via `git remote add <name> <url>`. "
   ]
  },
  {
   "cell_type": "markdown",
   "metadata": {},
   "source": [
    "### Cloning a remote repository\n",
    "\n",
    "- Cloning a remote repository via GitHub/GitLab/... is quite easy\n",
    "- Visit the website, on GitHub look for the green \"Code\" button, see also screenshot below\n",
    "- Decide wether you would like to use the HTTPS or SSH protocoll\n",
    "- Copy the link and execute `git clone`\n",
    "- Here is an example using my workshop on \"Meta-Analysis in Social Research\", see https://github.com/berndweiss/dji-meta-analysis-2019\n",
    "- Open a CLI and execute `git clone git@github.com:berndweiss/dji-meta-analysis-2019.git`\n",
    "\n",
    "![](fig/f_github-clone.png)"
   ]
  },
  {
   "cell_type": "code",
   "execution_count": 162,
   "metadata": {},
   "outputs": [
    {
     "name": "stdout",
     "output_type": "stream",
     "text": [
      "E:\\syncwork\\projects\\confer\\ps2021-10-ws-repro-research\\src\\bw\\git_test_folder\n"
     ]
    }
   ],
   "source": [
    "!cd"
   ]
  },
  {
   "cell_type": "markdown",
   "metadata": {},
   "source": [
    "### Adding a remote repository via `git remote add ...`\n",
    "\n",
    "Using the git command `git remote add <name> <url>`. The usual name for `<name>` is `origin`, however, feel free to choose another name. The `<url>` for this repository looks like `git@git.gesis.org:weissbd/ps2017-xx-intro2git.git`; another example is this one: `git@github.com:berndweiss/ps2017-11_porto-campbell-ma-workshop.git`. The url can be found in the respective github/gitlab repository. \n",
    "  \n",
    "The most convenient way in working with remove respositories is using SSH. In order to utilize SSH, the remote url has to be start with `git@git...`. \n",
    "\n",
    "It is also possible to use the HTTPS protocol. In these cases the urls look like so `https://example.com/path/to/repo.git`. "
   ]
  },
  {
   "cell_type": "markdown",
   "metadata": {},
   "source": [
    "### Delete remote branch"
   ]
  },
  {
   "cell_type": "markdown",
   "metadata": {},
   "source": [
    "`git push <remote_name> --delete <branch_name>`, e.g. `git push origin --delete my_branch`"
   ]
  },
  {
   "cell_type": "markdown",
   "metadata": {},
   "source": [
    "### Dowloading a remote branch that is not on your computer (yet)"
   ]
  },
  {
   "cell_type": "markdown",
   "metadata": {},
   "source": [
    "Just run a simple `git pull` (see https://stackoverflow.com/a/2294385). Then, on your local repository checkout to that remote branch, e.g. `git checkput indepday`:\n",
    "\n",
    "    Switched to a new branch 'indepday'\n",
    "    Branch 'indepday' set up to track remote branch 'indepday' from 'origin'.\n",
    "\n",
    "After checkout to `indepday`, git automatically starts tracking the new branch. "
   ]
  },
  {
   "cell_type": "markdown",
   "metadata": {},
   "source": [
    "### Exercise\n",
    "\n",
    "- Start the Git Bash\n",
    "\n",
    "- Clone the respository of my workshop https://github.com/berndweiss/dji-meta-analysis-2019\n",
    "\n",
    "- Change into the newly created directory\n",
    "\n",
    "- List the Git history via `<your input --oneline>` (the `--oneline` is very handy) and determine the first 7 SHA1 digits"
   ]
  },
  {
   "cell_type": "markdown",
   "metadata": {},
   "source": [
    "## Setting up a Git repository locally and remotly"
   ]
  },
  {
   "cell_type": "markdown",
   "metadata": {},
   "source": [
    "### Exercise\n",
    "\n",
    "- In a previous exercise (see [](git:exercise1)), you have created your own repository (let's call it `your-new-repo`)\n",
    "\n",
    "- Now, go to your GitHub account and create a new repository on GitHub \n",
    "    - Startpage -> tab \"Repositories\" -> green button \"New\"\n",
    "    - Enter a new \"Repository name\"\n",
    "    - Make it \"Private\" (unless you have something important to share)\n",
    "    - Do **not** check any of the \"Initialize this repository with\" boxes\n",
    "    - Hit the green \"Create repository\" button\n",
    "    - Choose SSH or HTTPS as protocol (\"Quick setup — if you’ve done this kind of thing before\")\n",
    "    - Look for \"...or push an existing repository from the command line\"\n",
    "    - SSH:\n",
    "        - Copy the line `git remote add origin git@github.com:berndweiss/your-repo-name.git` \n",
    "        - Execute the command `git remote add origin git@github.com:berndweiss/your-repo-name.git` in the Git Bash in your local repository (`your-new-repo`)\n",
    "    - HTTPS:\n",
    "        - Copy the line `git remote add origin https://github.com/berndweiss/your-repo-name.git` \n",
    "        - Execute the command `git remote add origin https://github.com/berndweiss/your-repo-name.git` in the Git Bash in your local repository (`your-new-repo`)\n",
    "    - Make sure that `git status` shows a clean repository\n",
    "    - Now you can run your first `git push origin main`\n",
    "    - Reload the GitHub page via F5; you now should see the content of your local repo `your-new-repo`\n",
    "    - ...\n",
    "    - You can delete a GitHub repository via the tab \"Settings\" -> \"Options\", then scroll down -> \"Danger Zone\" -> \"Delete this repository\""
   ]
  },
  {
   "cell_type": "markdown",
   "metadata": {},
   "source": [
    "## There is much more... \n",
    "\n",
    "- Commit hygiene http://www.ericbmerritt.com/2011/09/21/commit-hygiene-and-git.html\n",
    "\n",
    "- `.gitconfig`\n",
    "\n",
    "- `.gitignore`\n",
    "\n",
    "- ...\n",
    "\n",
    "- A nice tutorial in German: \"git - Der einfache Einstieg, eine einfache Anleitung, um git zu lernen. Kein Schnick-Schnack ;) https://rogerdudler.github.io/git-guide/index.de.html"
   ]
  },
  {
   "cell_type": "markdown",
   "metadata": {},
   "source": [
    "## References\n",
    "\n",
    "```{bibliography}\n",
    "```"
   ]
  }
 ],
 "metadata": {
  "celltoolbar": "Edit Metadata",
  "kernelspec": {
   "display_name": "Python 3 (ipykernel)",
   "language": "python",
   "name": "python3"
  },
  "language_info": {
   "codemirror_mode": {
    "name": "ipython",
    "version": 3
   },
   "file_extension": ".py",
   "mimetype": "text/x-python",
   "name": "python",
   "nbconvert_exporter": "python",
   "pygments_lexer": "ipython3",
   "version": "3.8.12"
  },
  "toc": {
   "base_numbering": 1,
   "nav_menu": {},
   "number_sections": true,
   "sideBar": true,
   "skip_h1_title": true,
   "title_cell": "Table of Contents",
   "title_sidebar": "Contents",
   "toc_cell": true,
   "toc_position": {
    "height": "658px",
    "left": "0px",
    "right": "614.406px",
    "top": "0px",
    "width": "235px"
   },
   "toc_section_display": "block",
   "toc_window_display": true
  }
 },
 "nbformat": 4,
 "nbformat_minor": 4
}
