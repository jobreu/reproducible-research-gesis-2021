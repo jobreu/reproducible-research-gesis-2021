{
 "cells": [
  {
   "cell_type": "markdown",
   "id": "7feed521",
   "metadata": {},
   "source": [
    "(section:computer-literacy)=\n",
    "# A2: Computer literacy for reproducible research"
   ]
  },
  {
   "cell_type": "markdown",
   "id": "4f50ad2c",
   "metadata": {},
   "source": [
    "## Computer literacy live demo"
   ]
  },
  {
   "cell_type": "markdown",
   "id": "66076e5a",
   "metadata": {},
   "source": [
    "![](fig/live-streaming.png)\n",
    "\n",
    "<div>(Icons made by <a href=\"https://www.flaticon.com/authors/freepik\" title=\"Freepik\">Freepik</a> from <a href=\"https://www.flaticon.com/\" title=\"Flaticon\">www.flaticon.com</a>)</div>"
   ]
  },
  {
   "cell_type": "markdown",
   "id": "c28f6562",
   "metadata": {},
   "source": [
    "## Overview"
   ]
  },
  {
   "cell_type": "markdown",
   "id": "5c6027b0",
   "metadata": {},
   "source": [
    "### Computer literacy as a barrier to reproducibility\n",
    "\n",
    "- There exists multiple barriers to reproducibility\n",
    "- In \"The Turing Way\", some of these [Barriers to reproducibility](https://the-turing-way.netlify.app/reproducible-research/overview/overview-barriers.html#barriers-to-reproducibility) are introduced\n",
    "- Among them: \n",
    "    - Big data and complex computational infrastructure\n",
    "    - Takes time\n",
    "    - Requires additional skills"
   ]
  },
  {
   "cell_type": "markdown",
   "id": "a796c4ac",
   "metadata": {},
   "source": [
    "### Overall objective\n",
    "\n",
    "- Introduce concepts and software tools \n",
    "- Provide necessary skills for subsequent modules\n",
    "- Topics that will be covered:\n",
    "    - Be lazy, but trustworthy!\n",
    "    - Organization of a research project on a computer (file/folder structure, naming conventions, etc.)\n",
    "    - Working with files and folders (file system, absolute and relative paths, working directory)\n",
    "    - Using a command-line interface (CLI)\n",
    "    - The beauty of plain text"
   ]
  },
  {
   "cell_type": "markdown",
   "id": "ddbab6f2",
   "metadata": {},
   "source": [
    "### Disclaimer\n",
    "\n",
    "- Targets MS Windows user\n",
    "- Your mileage may vary..."
   ]
  },
  {
   "cell_type": "markdown",
   "id": "0858c0cb",
   "metadata": {},
   "source": [
    "### Two guiding principles of reproducibility\n",
    "\n",
    "> Be trustworthy!\n",
    "\n",
    "> By lazy!"
   ]
  },
  {
   "cell_type": "markdown",
   "id": "021222ef",
   "metadata": {},
   "source": [
    "### Be lazy!\n",
    "\n",
    "![](./fig/f_twitter-wickham-be-lazy2.png)\n",
    "\n",
    "(Source: https://twitter.com/hadleywickham/status/598532170160873472)"
   ]
  },
  {
   "cell_type": "markdown",
   "id": "2047237c",
   "metadata": {},
   "source": [
    "### Some derived principles of being a trustworthy researcher\n",
    "\n",
    "> Be trustworthy!\n",
    "\n",
    "1. Document everything and be transparent in your research!\n",
    "2. Share all materials (if possible)!\n",
    "3. Ideally, also document and share workflows (→ automation)\n",
    "4. ...."
   ]
  },
  {
   "cell_type": "markdown",
   "id": "cda7bf1d",
   "metadata": {},
   "source": [
    "### Some derived principles of being lazy\n",
    "\n",
    "> \"Be lazy!\"\n",
    "\n",
    "1. Be consistent!\n",
    "    1. Create your own guidelines\n",
    "    2. Reduce cognitive burden\n",
    "    3. Reduce decision fatigue\n",
    "    4. ...\n",
    "2. Automate as much as possible!\n",
    "3. ..."
   ]
  },
  {
   "cell_type": "markdown",
   "id": "c4aae7c3",
   "metadata": {
    "hideOutput": true
   },
   "source": [
    "## Organization of a research project"
   ]
  },
  {
   "cell_type": "markdown",
   "id": "fcc8ebcc",
   "metadata": {},
   "source": [
    "### Research projects on your computer\n",
    "\n",
    "- What is a \"project\"? \n",
    "> \"A series of tasks linked to a goal, with a deadline\" {cite:p}`fortePARAMethodUniversal2017` \n",
    "- A research project can be writing a paper, giving a conference presentation or a lecture, ... \n",
    "- Ideally, all information, materials, data, ..., should be located in a distinct project folder \n",
    "- That is, on your computer, everything you need to complete the project should be stored inside *one* folder (which, of course, can/should have multiple subfolders) -- \"a project should be self-sufficient\""
   ]
  },
  {
   "cell_type": "markdown",
   "id": "d08ecd03",
   "metadata": {},
   "source": [
    "### A project's folder structure\n",
    "\n",
    "- Be consistent!\n",
    "- A uniform folder structure helps to find items in older projects\n",
    "- Choose a structure and naming convention that fit your working style\n",
    "- Generally, folder and file names should consist of the letters **a-z**, the number **0-9**, underscores, **and should never include a blank space**\n",
    "- I also use hyphens \"`-`\" sometimes, e.g., `mail_weiss-bernd.pdf`, then, the underscore is used to separate semantically different parts (e.g., `ps2021-03_gesis-panel-meet-the-expert`, `ps2020-11_utrecht_bigsurv20`)\n",
    "- Furthermore, it is advisable to never use capital letters, as this will increase the likelihood of being inconsistent\n",
    "- Folder and file names should be as short as possible, but as long as necessary to bring across the gist of its function/content"
   ]
  },
  {
   "cell_type": "markdown",
   "id": "8bdb5299",
   "metadata": {},
   "source": [
    "### Folder structure of a paper (not perfect)\n",
    "\n",
    "![](fig/f_folder-structure-paper.png)\n",
    "\n",
    "This is related to {cite:p}`schaurerInvestigatingSelectionBias2020`"
   ]
  },
  {
   "cell_type": "markdown",
   "id": "35789057",
   "metadata": {},
   "source": [
    "### Folder structure of a conference presentation (not perfect)\n",
    "\n",
    "![](fig/f_folder-structure-talk.png)\n",
    "\n",
    "This is related to a GOR presentation on \"Investigating self-selection bias of online surveys on COVID-19 pandemic-related outcomes and health characteristics\""
   ]
  },
  {
   "cell_type": "markdown",
   "id": "003d3226",
   "metadata": {},
   "source": [
    "### Data Carpentry suggests the following project layout\n",
    "\n",
    "The following guidelines are copyed from the Data Carpentry website on \"Introduction to automation\" and aim at specific workflow utilizing R, Rmarkdown, and knitr:\n",
    "\n",
    "- `data`: the original raw data, you shouldn’t edit or otherwise alter any of the files in this folder. DATA ARE READ ONLY. If they are encoded in a supported file format, they’ll automatically be loaded when you call load.project().\n",
    "\n",
    "- `cache`: Here is where you will store any data sets that (a) are generated during a preprocessing step and (b) don’t need to be regenerated every single time you analyze your data. You can use the cache() function to store data to this directory automatically. Any data set found in both the cache and data directories will be drawn from cache instead of data based on ProjectTemplate’s priority rules. We write them to .csv files (comma eperated values) so they are machine readable and can be easily shared.\n",
    "\n",
    "- `graphs`: the folder where we can store the figures used in the project In our example, the figures are generated directly during the rendering of the RMardown file for the manuscript, but having the figures as standalone files may facilitate getting feedback from your collaborators, or save time if you just work on tweaking its appearance without having to recompile the full manuscript.\n",
    "\n",
    "- `src`: our R code (the functions that will generate the intermediate datasets, the analyses, and the figures), it’s often easier to keep the prose separated from the code. If you have a lot of code (and/or if the manuscript is long), it’s easier to navigate.\n",
    "\n",
    "- `tests`: the code to test that our functions are behaving properly and that all our data is included in the analysis.\n",
    "There are other directories that you may not need as a newcomer, but these will come on handy as you increase your knowledge and prowess with R.\n",
    "\n",
    "(Source: https://datacarpentry.org/rr-automation/01-automation/index.html)"
   ]
  },
  {
   "cell_type": "markdown",
   "id": "9b68ea19",
   "metadata": {},
   "source": [
    "### More suggestions to structure a data analysis project\n",
    "\n",
    "- [Structure Your Data Science Projects](https://towardsdatascience.com/structure-your-data-science-projects-6c6c8653c16a)\n",
    "\n",
    "- [Managing a statistical analysis project – guidelines and best practices](https://www.r-statistics.com/2010/09/managing-a-statistical-analysis-project-guidelines-and-best-practices/)\n",
    "\n",
    "- [Creating a research compendium w/ rrtools](https://annakrystalli.me/rrresearch/10_compendium.html)\n",
    "\n",
    "- [Management of R project](https://r-cubed.rostools.org/r-project-management.html)\n",
    "\n",
    "- [The Basic Reproducible Workflow Template](http://www.practicereproducibleresearch.org/core-chapters/3-basic.html)\n",
    "\n",
    "- ...\n",
    "\n"
   ]
  },
  {
   "cell_type": "markdown",
   "id": "e69f0a7e",
   "metadata": {},
   "source": [
    "### Existing naming conventions (for files/folders, variable names etc.)\n",
    "\n",
    "\n",
    "- Avoide any whitespace characters\n",
    "\n",
    "- Some of the following examples are syntactically invalid in some programming languages, e.g., \"kebab-case\" does not work in R\n",
    "\n",
    "- Some of the most popular ways to combine words into a single string {cite:p}`divineStringCaseStyles2018`:\n",
    "    - CamelCase \n",
    "    - camelCase \n",
    "    - **pothole_case/snake_case**\n",
    "    - kebab-case\n",
    "    - this.case \n",
    "    - likethis\n",
    "    - ...\n",
    "\n",
    "> Choose one naming convention and stick with it! "
   ]
  },
  {
   "cell_type": "markdown",
   "id": "41244e3d",
   "metadata": {},
   "source": [
    "![](fig/coding_cases.png)\n",
    "\n",
    "(Source: [Artwork by @allison_horst](https://github.com/allisonhorst/stats-illustrations/blob/master/other-stats-artwork/coding_cases.png))"
   ]
  },
  {
   "cell_type": "markdown",
   "id": "fb36e4a7",
   "metadata": {},
   "source": [
    "### Where to store your data?\n",
    "\n",
    "(the following applys to MS Windows only)\n",
    "\n",
    "- Quite often, only the `C:` drive is initialized\n",
    "- Most Windows software suggests to save your files in your \"home directory\", e.g. `C:\\Users\\Weiss`\n",
    "- If, for some reasons, you cannot start your computer and need to reinstall everything, all your data is gone!\n",
    "- My suggestion: setup at least a second drive (`D:`), which is for your data only.\n",
    "- Below is my setup, which I have been applying for the last 20 years (the Google Drive is new, though):\n",
    "\n",
    "![](fig/f_windows-drives.png)"
   ]
  },
  {
   "cell_type": "markdown",
   "id": "024fcd60",
   "metadata": {},
   "source": [
    "### Backup your data \n",
    "\n",
    "> Just do it!"
   ]
  },
  {
   "cell_type": "markdown",
   "id": "2bf2e225",
   "metadata": {},
   "source": [
    "## Working with files and folders"
   ]
  },
  {
   "cell_type": "markdown",
   "id": "4709448b",
   "metadata": {},
   "source": [
    "### Why bother?\n",
    "\n",
    "- When you write code, you often need to read or save data\n",
    "- For your RMarkdown document, you will store data, figures, tables etc. in different folders, and you need to access this information/material\n",
    "- So, you need to tell the software where your data can be found\n",
    "- How do you ensure that your code or your RMarkdown document can be processed on your colleague's computer, your next computer,  a remote server?"
   ]
  },
  {
   "cell_type": "markdown",
   "id": "ffec796b",
   "metadata": {},
   "source": [
    "### Examples of a folder/file path\n",
    "\n",
    "- MS Windows: Folder path to my workshop materials `E:\\syncwork\\projects\\confer\\ps2021-10-ws-repro-research` \n",
    "- Linux (MSYS2): Folder path to my workshop materials `/E/syncwork/projects/confer/ps2021-10-ws-repro-research` \n",
    "- Full file path specified in Stata to load a dataset (MS Windows): `use \"J:\\Work\\PARI\\PARI-F\\data\\pari-f_data_v0-1.dta\"` \n",
    "- Full file path specified in R to load a dataset (MS Windows): `read.dta(\"J:/Work/PARI/PARI-F/data/pari-f_data_v0-1.dta\")` (confusing? see below...)\n",
    "\n",
    "(Note, these are all examples of *absolute path* specifications)"
   ]
  },
  {
   "cell_type": "markdown",
   "id": "1c032fd4",
   "metadata": {},
   "source": [
    "### What is a path?\n",
    "\n",
    "> \"A path to an entity (in this case, a file, folder, or web page) describes the entity’s unique location within a hierarchical directory or website structure\" (https://www.educative.io/edpresso/absolute-vs-relative-path).\n",
    "\n",
    "> \"A path is a string of characters used to uniquely identify a location in a directory structure. It is composed by following the directory tree hierarchy in which components, separated by a delimiting character, represent each directory. The **delimiting character** is most commonly the **slash (\"/\")**, the **backslash character (\"\\\\\")**, or colon (\":\"), though some operating systems may use a different delimiter. Paths are used extensively in computer science to represent the directory/file relationships common in modern operating systems, [...]. Resources can be represented by either **absolute or relative paths**\" (emphasis mine; https://en.wikipedia.org/wiki/Path_(computing))"
   ]
  },
  {
   "cell_type": "markdown",
   "id": "1365b2cf",
   "metadata": {},
   "source": [
    "### Delimiting characters\n",
    "\n",
    "<font style=\"color:red\"> THIS IS IMPORTANT !!$!!!\"§!111111</font>\n",
    "\n",
    "- Delimiting characters `/` or `\\` vary by operating system\n",
    "- MS Windows: \n",
    "    - Use a colon `:` to specify the drive name (e.g., `c:`, `d:`, `e:`)\n",
    "    - Folders and files are seperated by a backslash character (`\\`)\n",
    "    - Example: `J:\\Work\\PARI\\PARI-F\\data\\pari-f_data_v0-1.dta`\n",
    "- Linux/macOS:\n",
    "     - No colon (`:`)\n",
    "     - Use only the slash (`/`) character\n",
    "     - Example: `/E/syncwork/projects/confer/ps2021-10-ws-repro-research`\n",
    "     - Another (dynamically created) example showing the (full) path to my Git slides (using the command `readlink`):"
   ]
  },
  {
   "cell_type": "code",
   "execution_count": 8,
   "id": "568a7118",
   "metadata": {},
   "outputs": [
    {
     "name": "stdout",
     "output_type": "stream",
     "text": [
      "/e/syncwork/projects/confer/ps2021-10-ws-repro-research/src/bw/a3_introduction-to-git.ipynb\n"
     ]
    }
   ],
   "source": [
    "!readlink -f a3_introduction-to-git.ipynb"
   ]
  },
  {
   "cell_type": "markdown",
   "id": "50609ca1",
   "metadata": {},
   "source": [
    "### Delimiting characters in R, $\\LaTeX$, Python, ... under MS Windows\n",
    "\n",
    "- Software, such as R, $\\LaTeX$, Python, with a Linux/UNIX background but can be used in MS Windows as well but behave differently when it comes to specifying file/folder paths\n",
    "\n",
    "- That is, when specifiying a path (e.g., in R or $\\LaTeX$) in MS Windows, these programs do not like the backslash character (`\\`) (the backslash is used for \"escaping\" other characters)\n",
    "\n",
    "- Two solutions:\n",
    "    - Use the slash character `/`, e.g.:   \n",
    "    ```R\n",
    "    library(haven)\n",
    "    read.dta(\"J:/Work/PARI/PARI-F/data/pari-f_data_v0-1.dta\")\n",
    "    ```\n",
    "    - Escape the backslash character via `\\\\`, e.g.:\n",
    "    ```R\n",
    "    library(haven)\n",
    "    read.dta(\"J:\\\\Work\\\\PARI\\\\PARI-F\\\\data\\\\pari-f_data_v0-1.dta\")\n",
    "    ```\n",
    "\n",
    "- For more information see, e.g., https://www.dummies.com/programming/r/how-to-work-with-files-and-folders-in-r/\n",
    "\n",
    "- Note: Many programming languages/statistical packages (R, Python, ...) can dynamically create a full path that follows the rules of the respective operating system:\n",
    "    - R: \n",
    "    ```R\n",
    "    file.path(\"J:\", \"Work\", \"PARI\", \"PARI-F\", \"data\", \"pari-f_data_v0-1.dta\")\n",
    "    [1] \"J:/Work/PARI/PARI-F/data/pari-f_data_v0-1.dta\"\n",
    "    ```\n",
    "    \n",
    "    - Python: \n",
    "    ```python\n",
    "    import os\n",
    "    os.path.join(\"e:\", \"folder1\", \"folder2\", \"file\")\n",
    "    ```\n",
    "    returns: `'e:folder1\\\\folder2\\\\file'` (in Windows)\n",
    "    \n",
    "    - Stata, actually, does not care... \n",
    "        - `use \"J:\\Work\\PARI\\PARI-F\\data\\pari-f_data_v0-1.dta\"`\n",
    "        - `use \"J:/Work/PARI/PARI-F/data/pari-f_data_v0-1.dta\"`\n",
    "\n",
    "- Johannes suggests a handy tool when working on both operating system: [Path Copy Copy -- Copy file paths from Windows explorer's contextual menu](https://pathcopycopy.github.io/)"
   ]
  },
  {
   "cell_type": "markdown",
   "id": "f7f6941a",
   "metadata": {},
   "source": [
    "### Absolute and relative paths\n",
    "\n",
    "- There exists two types of paths: absolute or relative paths\n",
    "- Example of an absolute path (in MS Windows): `J:\\Work\\PARI\\PARI-F\\data\\pari-f_data_v0-1.dta`\n",
    "- Example of a relative path (in MS Windows): `..\\data\\pari-f_data_v0-1.dta`\n",
    "\n",
    "\n",
    "(Source: https://www.earthdatascience.org/courses/intro-to-earth-data-science/python-code-fundamentals/work-with-files-directories-paths-in-python/)    "
   ]
  },
  {
   "cell_type": "markdown",
   "id": "ae03b97f",
   "metadata": {},
   "source": [
    "### Absolute paths (or full path)\n",
    "\n",
    "- Contains the entire path to the file or directory that you need to access \n",
    "- It will begin at you computer's root directory (or respective Window's drive) and will end with the file or directory that you wish to access\n",
    "- E.g., in MS Windows: `J:\\Work\\PARI\\PARI-F\\data\\pari-f_data_v0-1.dta` or `D:\\tmp\\yipiyy.txt`\n",
    "    ![](fig/f_explorer-full-path.png)\n",
    "\n",
    "- In Linux or macOS: `/home/weiss/important/yipiyy.txt` \n",
    "- **Avoid using absolute paths as much as possible since it reduces the portability of your project (your colleague's computer, someone who wants to reproduce your analyses)**"
   ]
  },
  {
   "cell_type": "markdown",
   "id": "2a5061fe",
   "metadata": {},
   "source": [
    "(cli:wd-relative-path)=\n",
    "### Working directory and relative paths\n",
    "\n",
    "- A relative path is relative to a \"fixed location\" on your computer\n",
    "- Often, this \"fixed location\" is the so-called \"working directory\" \n",
    "- So, when starting your data analysis, you first define your \"working directory\" as absolute path -- **this is done just once!**\n",
    "- All other file- or folder-related operations are defined relative to this working directory\n",
    "- **The huge benefit: when you share your project with a colleague or move it to a new computer, you only have to define the working directory once, everything else should work flawelessly**\n",
    "- How to define a working directory?\n",
    "    - R: `setwd(\"full-path-to-working-directory\")` - \n",
    "    - Stata: `cd \"full-path-to-working-directory\"` (`cd` = change directory)\n",
    "    - Python: `import os; os.chdir(\"full-path-to-working-directory\")`\n",
    "- How to get information about the current working directory?\n",
    "    - R: `getwd()` \n",
    "    ```r\n",
    "    > getwd()\n",
    "    [1] \"D:/Eigene Dateien/Dokumente\"\n",
    "    ```\n",
    "    - Stata: `cd`\n",
    "    ```stata\n",
    "    .cd\n",
    "    C:\\Program Files\\Stata15\n",
    "    ``` \n",
    "    - Python: `import os; os.getcwd()` (cwd = current working directory); see below for an example"
   ]
  },
  {
   "cell_type": "code",
   "execution_count": 9,
   "id": "44636959",
   "metadata": {},
   "outputs": [
    {
     "data": {
      "text/plain": [
       "'E:\\\\syncwork\\\\projects\\\\confer\\\\ps2021-10-ws-repro-research\\\\src\\\\bw'"
      ]
     },
     "execution_count": 9,
     "metadata": {},
     "output_type": "execute_result"
    }
   ],
   "source": [
    "import os \n",
    "os.getcwd()"
   ]
  },
  {
   "cell_type": "markdown",
   "id": "8dc7897c",
   "metadata": {},
   "source": [
    "- So, let's assume the project \"PARI-F\" is located on drive `J:`, the full absolute path is `J:\\Work\\PARI\\PARI-F`\n",
    "- The content of the project's folder `PARI-F` is:\n",
    "```\n",
    ".\n",
    "|-- analysis\n",
    "|-- data\n",
    "|-- doc\n",
    "|-- pari-f.stpr\n",
    "`-- report\n",
    "```\n",
    "- Loading a dataset located in folder `data`, can be accomplished as follows:\n",
    "    - In R:\n",
    "    ```r\n",
    "    library(haven); library(ggplot2)\n",
    "    setwd(\"J:/Work/PARI/PARI-F\")          # Define working directory just once.\n",
    "    read.dta(\"data/pari-f_data_v0-5.dta\") # Absolute path: J:/Work/PARI/PARI-F/data/pari-f_data_v0-5.dta\n",
    "    ...\n",
    "    ggplot(...)\n",
    "    ggsave(\"doc/my-fancy-plot.pdf\")       # Will be saved in J:/Work/PARI/PARI-F/doc/my-fancy-plot.pdf\n",
    "    ```\n",
    "    Note: In R, I would actually suggest to use the package [`here`](https://here.r-lib.org/) which avoids manually defining a working directory at all\n",
    "    - In Stata:\n",
    "    ```stata\n",
    "    cd \"J:/Work/PARI/PARI-F\" // Define working directory just once.\n",
    "    use \"data/pari-f_data_v0-5.dta\", clear\n",
    "    ...\n",
    "    scatter x y\n",
    "    graph export \"doc/my-fancy-plot.pdf\"\n",
    "    ```\n",
    "    \n",
    "- Shortcuts (`.` and `..`) and the parent directory:\n",
    "    - The dot `.` denotes the current working directory\n",
    "    - The dot dot `..` denotes the parent directory, i.e., it points upwards in the folder hierarchy\n",
    "    - Example in R\n",
    "     ```r\n",
    "    library(haven); library(ggplot2)\n",
    "    setwd(\"J:/Work/PARI/PARI-F/data\")     # Define working directory just once, now we are in /data.\n",
    "    read.dta(\"pari-f_data_v0-5.dta\")      # Absolute path: J:/Work/PARI/PARI-F/data/pari-f_data_v0-5.dta\n",
    "    ...\n",
    "    ggplot(...)\n",
    "    ggsave(\"../doc/my-fancy-plot.pdf\")    # Read: \n",
    "                                          # - We are in J:/Work/PARI/PARI-F/data\n",
    "                                          # - The plot should be saved to J:/Work/PARI/PARI-F/doc\n",
    "                                          # - \"..\" = go to parent folder of data, i.e., J:/Work/PARI/PARI-F\n",
    "                                          # - Then, go to folder /doc and store the plot in this folder \n",
    "    ```\n",
    "   - Finally, the tilde symbol `~` will bring you back to your home directory, e.g. `cd ~`\n",
    "   \n",
    "   - See also https://en.wikipedia.org/wiki/Path_(computing)"
   ]
  },
  {
   "cell_type": "markdown",
   "id": "72d34686",
   "metadata": {},
   "source": [
    "(label:cli)=\n",
    "## Using a comand-line interface (CLI)"
   ]
  },
  {
   "cell_type": "markdown",
   "id": "691e8fe3",
   "metadata": {},
   "source": [
    "### MS Window's default comand-line interpreter (`cmd.exe`)\n",
    "\n",
    "![](fig/f_cli-cmd.png)"
   ]
  },
  {
   "cell_type": "markdown",
   "id": "872e7cc4",
   "metadata": {},
   "source": [
    "### Windows PowerShell \n",
    "\n",
    "![](fig/f_cli-powershell.png)"
   ]
  },
  {
   "cell_type": "markdown",
   "id": "5b9000a2",
   "metadata": {},
   "source": [
    "### The Bash shell (Linux, macOS, MS Windows, ...)\n",
    "\n",
    "![](fig/f_cli-shell.png)"
   ]
  },
  {
   "cell_type": "markdown",
   "id": "8bb50be3",
   "metadata": {},
   "source": [
    "### Don't always use a sledgehammer for the job\n",
    "\n",
    "> \"When I fire up my Terminal app people that don’t know me well often look on in disgust, no doubt asking themselves what century I was born in. Surely they think, this is 2020! We have touch screens! Beautiful web apps! Amazing software with graphical interfaces! Yup. They’re fun. **But, if your goal is to conduct a reproducible analysis, then you need to step away from those tools and dig into the command line.** Another reaction is, don’t you know about this great R package to do that? I love R! But it’s not always the right tool for the job. Sometimes using R is like using a sledgehammer to pound in a nail or worse, sometimes it’s like using a sledgehammer to pound in a screw. I could, but why? Doing the same thing at the command line with bash commands would be so much easier.\" (emphasis mine; https://riffomonas.org/code_club/2020-08-17-command-line-life)\n"
   ]
  },
  {
   "cell_type": "markdown",
   "id": "09b607c8",
   "metadata": {},
   "source": [
    "### What is a command-line interface (CLI)? \n",
    "\n",
    "> \"A command-line interface (CLI) **processes commands** to a computer program in the form of **lines of text**. The program which handles the interface is called a command-line interpreter or command-line processor. Operating systems implement a command-line interface in a shell for interactive access to operating system functions or services. Such access was primarily provided to users by computer terminals starting in the mid-1960s, and continued to be used throughout the 1970s and 1980s on VAX/VMS, Unix systems and personal computer systems including DOS, CP/M and Apple DOS.\"\n",
    "\n",
    "(emphasis mine; https://en.wikipedia.org/wiki/Command-line_interface)"
   ]
  },
  {
   "cell_type": "markdown",
   "id": "48c696b8",
   "metadata": {},
   "source": [
    "### And what is a shell?\n",
    "\n",
    "> \"In computing, a shell is a computer program which exposes an operating system's services to a human user or other program. In general, operating system shells use either a command-line interface (CLI) or graphical user interface (GUI), depending on a computer's role and particular operation. It is named a shell because it is the outermost layer around the operating system.\"\n",
    "\n",
    "(https://en.wikipedia.org/wiki/Shell_(computing))"
   ]
  },
  {
   "cell_type": "markdown",
   "id": "49447b0b",
   "metadata": {},
   "source": [
    "### Okay, but why?!\n",
    "\n",
    "- Fast and effcient way to interact with your computer\n",
    "- Important part of your automation toolbox to create a reproducible data analysis pipeline\n",
    "- \"1-Click Reproducibility\" or better (but less catchy): \"1-Command-on-a-CLI Reproducibility\"\n",
    "- Many functions that RStudio provides are actually based on command-line tools (Git, pandoc, $\\LaTeX$, ...) -- it might be helpful to understand what is happening under the hood\n",
    "- Accessing a remote server almost always requires some sort of command line skills\n",
    "- ...\n",
    "\n",
    "\n",
    "{cite:p}`piccoloToolsTechniquesComputational2016`\n",
    "\n",
    "I also recommend \"Top ten reasons to learn to use the command line: Expanding your reproducibility tools\", see https://riffomonas.org/code_club/2020-08-17-command-line-life"
   ]
  },
  {
   "cell_type": "markdown",
   "id": "da281e8f",
   "metadata": {},
   "source": [
    "### The Git Bash\n",
    "\n",
    "![](fig/f_git-bash.png)"
   ]
  },
  {
   "cell_type": "markdown",
   "id": "5aab22ab",
   "metadata": {},
   "source": [
    "### Important commands\n",
    "\n",
    "- Note, some of these commands depend on the respective operating system\n",
    "- Almost all of these command can have several arguments, e.g., `ls -la`\n",
    "- Linux cheatsheet: https://files.fosswire.com/2007/08/fwunixref.pdf\n",
    "- MS Windows cheatsheet: http://www.cs.columbia.edu/~sedwards/classes/2015/1102-fall/Command%20Prompt%20Cheatsheet.pdf\n",
    "\n",
    "| Description | Win | Linux, macOS |\n",
    "| :--- | :--- | :--- |    \n",
    "| Copy files, folders | `copy` | `cp` |\n",
    "| Move files, folders | `move` | `mv` |\n",
    "| List folder content | `dir` | `ls` |\n",
    "| Create new folder | `mkdir` | `mkdir`|\n",
    "| Change current folder | `cd` | `cd` |\n",
    "|Show current path| `echo %cd%` | `pwd`|\n",
    "| **Danger zone** No undo!|\n",
    "| Delete file(s) | `del` | `rm` |\n",
    "| Delete folder(s) | `rmdir`| `rm`|"
   ]
  },
  {
   "cell_type": "markdown",
   "id": "4f7aef05",
   "metadata": {},
   "source": [
    "(cli:create-project)=\n",
    "### A small script to create a project folder"
   ]
  },
  {
   "cell_type": "markdown",
   "id": "7e827d30",
   "metadata": {},
   "source": [
    "The following small bash/shell (on Windows: use the Git bash) script was introduced in the very beginning of this module. It initializes a new project folder. It even detects when you forget to submit a folder name for your project:"
   ]
  },
  {
   "cell_type": "markdown",
   "id": "c1e59422",
   "metadata": {},
   "source": [
    "```\n",
    "#!/bin/sh\n",
    "\n",
    "# Yes, I had to google that... \n",
    "# https://stackoverflow.com/questions/6482377/check-existence-of-input-argument-in-a-bash-shell-script\n",
    "if [ $# -eq 0 ]\n",
    "  then\n",
    "    echo \"No arguments supplied! You stupid!!!!!!\"\n",
    "    exit 1\n",
    "fi\n",
    "\n",
    "mkdir $1\n",
    "cd $1\n",
    "mkdir data\n",
    "mkdir src\n",
    "mkdir output\n",
    "touch .gitignore\n",
    "touch README \n",
    "```"
   ]
  },
  {
   "cell_type": "markdown",
   "id": "30baeea2",
   "metadata": {},
   "source": [
    "### Exercise\n",
    "\n",
    "- Start the Git Bash\n",
    "\n",
    "- List the content of the current folder via `ls -la`\n",
    "\n",
    "- Determine where you are via `pwd`\n",
    "\n",
    "- Go to the parent folder via `cd <your input>`\n",
    "\n",
    "- Copy the content from my small script (see above, section [](cli:create-project), use the little copy-icon in the top-right corner) and past it into a text file, save the text file as `create-project.sh`\n",
    "\n",
    "- Execute the script `./create-project.sh` (the `./` is important, for an explanation see [here](https://stackoverflow.com/questions/6331075/why-do-you-need-dot-slash-before-executable-or-script-name-to-run-it-in-bas)) without a folder name\n",
    "\n",
    "- Execute the script `./create-project.sh <your-new-project>` with a folder name as argument"
   ]
  },
  {
   "cell_type": "markdown",
   "id": "ac0196ab",
   "metadata": {},
   "source": [
    "## The power of plain text"
   ]
  },
  {
   "cell_type": "markdown",
   "id": "95a1a081",
   "metadata": {},
   "source": [
    "### Again, it is 2021, why would I write in plain text?\n",
    "\n",
    "- Version control (e.g., Git) works well (efficient, differences between versions are easy to understand) with plain text documents, `.docx` et al. not so much\n",
    "- Future proof \n",
    "- Can easily manipulated with external tools\n",
    "- ...\n",
    "\n",
    "Canonical reference: [The Plain Person’s Guide to Plain Text Social Science](https://plain-text.co/) by Kieran Healy"
   ]
  },
  {
   "cell_type": "markdown",
   "id": "6b3ccab0",
   "metadata": {},
   "source": [
    "### Encoding\n",
    "\n",
    "- Puh, what is [(character) encoding](https://en.wikipedia.org/wiki/Character_encoding)?\n",
    "\n",
    "- See also https://www.w3.org/International/questions/qa-what-is-encoding.en\n",
    "\n",
    "- My only rule: Use utf-8\n",
    "\n",
    "- If you run into trouble, use a search engine your trust... which will most likely lead to a Stackoverflow page\n",
    "\n",
    "- Example: [How to keep umlaut in R?](https://stackoverflow.com/questions/61490124/how-to-keep-umlaut-in-r)\n",
    "\n",
    "- Notepad++ is my my tool of choice...\n",
    "\n",
    "- On the command line (Linux/Bash), you can use the command `file`, see below for the encoding of my references file:"
   ]
  },
  {
   "cell_type": "code",
   "execution_count": 10,
   "id": "593c730a",
   "metadata": {},
   "outputs": [
    {
     "name": "stdout",
     "output_type": "stream",
     "text": [
      "references.bib: Unicode text, UTF-8 text, with very long lines (1869)\n"
     ]
    }
   ],
   "source": [
    "!file references.bib"
   ]
  },
  {
   "cell_type": "markdown",
   "id": "89f56987",
   "metadata": {},
   "source": [
    "### The power of regular expressions\n",
    "\n",
    "- \"Regular expressions are specially encoded text strings used as patterns for matching sets of strings\" {cite:p}`fitzgeraldIntroducingRegularExpressions2012`\n",
    "\n",
    "- Regex = Regular expressions\n",
    "\n",
    "- Regex can be really handy when it comes to:\n",
    "    - Searching for highly standardized strings, e.g., Emails, URLs etc.\n",
    "    - Search and replace in an automated fashion\n",
    "    - Extract text\n",
    "    - ...\n",
    "    \n",
    "- Regex are implemented in almost all programming languages, including Python, R, Stata    "
   ]
  },
  {
   "cell_type": "markdown",
   "id": "b07140fc",
   "metadata": {},
   "source": [
    "The following example utilizes Python for a brief demonstration of Regex. It uses the following sample text:\n",
    "\n",
    "```\n",
    "lalaal@gesis.org ysdfvysdfc sdcfasefasdf hhatz@gesis.org,\n",
    "aselkjcf nöasjfasö djfcapsodfak http://www.gesis.org/welt \n",
    "acsd1132 33.45 sklfdgssfd ef caois 12.1 willlst@gesis.org \n",
    "http://www.gesis.org/helloworld \n",
    "```"
   ]
  },
  {
   "cell_type": "code",
   "execution_count": 11,
   "id": "002bab64",
   "metadata": {},
   "outputs": [],
   "source": [
    "import re\n",
    "\n",
    "sample = \"\"\"lalaal@gesis.org ysdfvysdfc sdcfasefasdf hhatz@gesis.org,\n",
    "aselkjcf nöasjfasö djfcapsodfak http://www.gesis.org/welt \n",
    "acsd1132 33.45 sklfdgssfd ef caois 12.1 willlst@gesis.org \n",
    "http://www.gesis.org/helloworld \n",
    "\"\"\""
   ]
  },
  {
   "cell_type": "code",
   "execution_count": 12,
   "id": "087ca474",
   "metadata": {},
   "outputs": [
    {
     "name": "stdout",
     "output_type": "stream",
     "text": [
      "lalaal@gesis.org ysdfvysdfc sdcfasefasdf hhatz@gesis.org,\n",
      "aselkjcf nöasjfasö djfcapsodfak http://www.gesis.org/welt \n",
      "acsd1132 33.45 sklfdgssfd ef caois 12.1 willlst@gesis.org \n",
      "http://www.gesis.org/helloworld \n",
      "\n"
     ]
    }
   ],
   "source": [
    "print(sample)"
   ]
  },
  {
   "cell_type": "markdown",
   "id": "dd306849",
   "metadata": {},
   "source": [
    "Extract all emails:"
   ]
  },
  {
   "cell_type": "code",
   "execution_count": 13,
   "id": "ab188f4e",
   "metadata": {},
   "outputs": [
    {
     "data": {
      "text/plain": [
       "['lalaal@gesis.org', 'hhatz@gesis.org', 'willlst@gesis.org']"
      ]
     },
     "execution_count": 13,
     "metadata": {},
     "output_type": "execute_result"
    }
   ],
   "source": [
    "m = re.findall(r'[\\w.+-]+@[\\w-]+\\.[\\w.-]+', sample)\n",
    "m"
   ]
  },
  {
   "cell_type": "markdown",
   "id": "fee9190d",
   "metadata": {},
   "source": [
    "Extract all numbers:"
   ]
  },
  {
   "cell_type": "code",
   "execution_count": 14,
   "id": "7e28f331",
   "metadata": {},
   "outputs": [
    {
     "data": {
      "text/plain": [
       "['1132', '33', '45', '12', '1']"
      ]
     },
     "execution_count": 14,
     "metadata": {},
     "output_type": "execute_result"
    }
   ],
   "source": [
    "m = re.findall(r'\\d+', sample)\n",
    "m"
   ]
  },
  {
   "cell_type": "markdown",
   "id": "3e31f48f",
   "metadata": {},
   "source": [
    "## Automation and productivity\n",
    "\n",
    "- There is a trade-off between automation and productivity\n",
    "- Automation, learning the required skills, setting up your tool chain will take a lot of time -- but can also safe a lot of time\n",
    "- Find the sweet spot where you invest some time now to save -- in the long run -- more time and increase your productivity\n",
    "- \"Find the sweet spot\" -- well, easier said than done\n",
    "\n",
    "<blockquote class=\"twitter-tweet\"><p lang=\"en\" dir=\"ltr\">Never spend 6 minutes doing something by hand when you can spend 6 hours failing to automate it</p>&mdash; Zhuowei Zhang (@zhuowei) <a href=\"https://twitter.com/zhuowei/status/1254266079532154880?ref_src=twsrc%5Etfw\">April 26, 2020</a></blockquote> <script async src=\"https://platform.twitter.com/widgets.js\" charset=\"utf-8\"></script>"
   ]
  },
  {
   "cell_type": "markdown",
   "id": "ec19536c",
   "metadata": {},
   "source": [
    "## References\n",
    "\n",
    "```{bibliography}\n",
    "```"
   ]
  }
 ],
 "metadata": {
  "kernelspec": {
   "display_name": "Python 3 (ipykernel)",
   "language": "python",
   "name": "python3"
  },
  "language_info": {
   "codemirror_mode": {
    "name": "ipython",
    "version": 3
   },
   "file_extension": ".py",
   "mimetype": "text/x-python",
   "name": "python",
   "nbconvert_exporter": "python",
   "pygments_lexer": "ipython3",
   "version": "3.8.12"
  },
  "toc": {
   "base_numbering": 1,
   "nav_menu": {},
   "number_sections": true,
   "sideBar": true,
   "skip_h1_title": false,
   "title_cell": "Table of Contents",
   "title_sidebar": "Contents",
   "toc_cell": false,
   "toc_position": {
    "height": "calc(100% - 180px)",
    "left": "10px",
    "top": "150px",
    "width": "335.291px"
   },
   "toc_section_display": true,
   "toc_window_display": true
  }
 },
 "nbformat": 4,
 "nbformat_minor": 5
}
