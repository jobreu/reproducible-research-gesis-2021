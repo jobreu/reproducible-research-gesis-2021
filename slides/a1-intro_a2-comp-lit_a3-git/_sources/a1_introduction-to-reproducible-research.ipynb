{
 "cells": [
  {
   "cell_type": "markdown",
   "id": "4dab97a3",
   "metadata": {
    "hideCode": false,
    "hidePrompt": false,
    "slideshow": {
     "slide_type": "slide"
    }
   },
   "source": [
    "# A1: A brief introduction to reproducible research (in the social sciences)"
   ]
  },
  {
   "cell_type": "markdown",
   "id": "b59ac8fc",
   "metadata": {
    "hideCode": false,
    "hidePrompt": false
   },
   "source": [
    "- Concerns about the replicability and reproducibility of scientific research {cite:p}`goodmanWhatDoesResearch2016`\n",
    "\n",
    "- You might have heard about the \"replication crisis\"\n",
    "\n",
    "- Example of Reinhart and Rogoff (see also [Memo to Reinhart and Rogoff: I think it’s best to admit your errors and go on from there](https://statmodeling.stat.columbia.edu/2013/04/16/memo-to-reinhart-and-rogoff-i-think-its-best-to-admit-your-errors-and-go-on-from-there/); for more examples see https://twitter.com/kirstie_j/status/1360172705933365248)\n",
    "\n",
    "- Very hands-on example of an incorrect paper by T. K. Moon on \"The Expectation-Maximization Algorithm\" and an explanation what went wrong by Dennis Ogbe: https://ogbe.net/blog/sloppy_papers.html"
   ]
  },
  {
   "cell_type": "markdown",
   "id": "e6bcb48e",
   "metadata": {
    "hideCode": false,
    "hidePrompt": false,
    "slideshow": {
     "slide_type": "slide"
    }
   },
   "source": [
    "\n",
    "\n",
    "## Terminology"
   ]
  },
  {
   "cell_type": "markdown",
   "id": "e612aa2e",
   "metadata": {
    "hideCode": false,
    "hidePrompt": false,
    "slideshow": {
     "slide_type": "subslide"
    }
   },
   "source": [
    "### Terms used in the literature\n",
    "- Reproducibility \n",
    "- Replicability\n",
    "- ...\n",
    "- Repeatability\n",
    "- Readability\n",
    "- ...\n",
    "- Reliability \n",
    "- Robustness \n",
    "- Generalizability\n",
    "- ..."
   ]
  },
  {
   "cell_type": "markdown",
   "id": "67832364",
   "metadata": {
    "hideCode": false,
    "hidePrompt": false,
    "slideshow": {
     "slide_type": "subslide"
    }
   },
   "source": [
    "### What terms do we use?\n",
    "\n",
    "- Various papers among various disciplines provide a multitude of (sometimes conflicting) definitions {cite:p}`goodmanWhatDoesResearch2016, pengReproducibleResearchComputational2011, freeseReplicationSocialScience2017`\n",
    "\n",
    "- Our approach is as follows: Reproducibility $\\neq$ Replicability {cite:p}`barbaTerminologiesReproducibleResearch2018`\n",
    "\n",
    "- More precisely {cite:t}`stoddenImplementingReproducibleResearch2014`:\n",
    "\n",
    "::::{important} \n",
    "**Reproducibility** is the calculation of quantitative scientific results by independent scientists using the original datasets and methods \n",
    "::::\n",
    "\n",
    "::::{important} \n",
    "**Replication** is the practice of independently implementing scientific experiments to validate specific findings \n",
    "::::"
   ]
  },
  {
   "cell_type": "markdown",
   "id": "52735b1f",
   "metadata": {},
   "source": [
    "### The Turing Way's of defining reproducible research\n",
    "\n",
    "![](fig/reproducible-matrix.jpg)\n",
    "\n",
    "- \"**Reproducible**: A result is reproducible when the same analysis steps performed on the same dataset consistently produces the same answer.\n",
    "\n",
    "- **Replicable**: A result is replicable when the same analysis performed on different datasets produces qualitatively similar answers.\n",
    "\n",
    "- **Robust**: A result is robust when the same dataset is subjected to different analysis workflows to answer the same research question (for example one pipeline written in R and another written in Python) and a qualitatively similar or identical answer is produced. Robust results show that the work is not dependent on the specificities of the programming language chosen to perform the analysis.\n",
    "\n",
    "- **Generalisable**: Combining replicable and robust findings allow us to form generalisable results. Note that running an analysis on a different software implementation and with a different dataset does not provide generalised results. There will be many more steps to know how well the work applies to all the different aspects of the research question. Generalisation is an important step towards understanding that the result is not dependent on a particular dataset nor a particular version of the analysis pipeline.\"\n",
    "\n",
    "(Source: https://the-turing-way.netlify.app/reproducible-research/overview/overview-definitions.html)"
   ]
  },
  {
   "cell_type": "markdown",
   "id": "aa6f419c",
   "metadata": {
    "hideCode": false,
    "hidePrompt": false,
    "slideshow": {
     "slide_type": "subslide"
    }
   },
   "source": [
    "### Reproducibility in more hands-on terms"
   ]
  },
  {
   "cell_type": "markdown",
   "id": "b40cbf42",
   "metadata": {
    "hideCode": false,
    "hidePrompt": false
   },
   "source": [
    "> \"'Reproducibility is just collaboration with people you don't know, including yourself next week' – @philipbstark #dsesummit #openscience\"\n",
    "\n",
    "(Source: https://twitter.com/jakevdp/status/519563939177197571, accessed on 2021-10-27)"
   ]
  },
  {
   "cell_type": "markdown",
   "id": "41a1c33e",
   "metadata": {},
   "source": [
    "### Reproducible research is just research done right\n",
    "\n",
    "> \"Reproducible research is a by-product of careful attention to detail throughout the research process and allows researchers to ensure that they can repeat the same analysis multiple times with the same results, at any point in that process. Because of this, researchers who conduct reproducible research are the primary beneficiaries of this practice\" {cite:p}`alstonBeginnerGuideConducting2021`. \n"
   ]
  },
  {
   "cell_type": "markdown",
   "id": "6b8d965f",
   "metadata": {
    "hideCode": false,
    "hidePrompt": false
   },
   "source": [
    "## Opportunities and obstacles of reproducible research"
   ]
  },
  {
   "cell_type": "markdown",
   "id": "fc9fdb5d",
   "metadata": {},
   "source": [
    "The [Turing Way](https://the-turing-way.netlify.app/reproducible-research/overview/overview-barriers.html) as well as {cite:t}`alstonBeginnerGuideConducting2021` provide an overview of possible barriers to reproducibility: \n",
    "\n",
    "- Limited incentives to give evidence against yourself\n",
    "\n",
    "- Publication bias towards novel findings\n",
    "\n",
    "- Not considered for promotion\n",
    "\n",
    "- Big data and complex computational infrastructure\n",
    "\n",
    "- Takes time\n",
    "\n",
    "- Requires additional skills\n",
    "\n",
    "- Intellectual property rights\n",
    "\n",
    "Some of the technical aspects will be discussed in section [](section:computer-literacy)"
   ]
  },
  {
   "cell_type": "markdown",
   "id": "4d67470e",
   "metadata": {},
   "source": [
    "## Why does it matter?"
   ]
  },
  {
   "cell_type": "markdown",
   "id": "d00102b7",
   "metadata": {},
   "source": [
    "> \"An article about computational science in a scientific publication is not the scholarship itself, it is merely advertising of the scholarship. The actual scholarship is the complete software development environment and the complete set of instructions which generated the figures\" {cite:p}`buckheitWaveLabReproducibleResearch1995`. \n"
   ]
  },
  {
   "cell_type": "markdown",
   "id": "db08bebe",
   "metadata": {},
   "source": [
    "{cite:t}`leeperReproducibleResearchWhat2014` distinguishes external and internal reasons\n",
    "\n",
    "**External reasons** \n",
    "\n",
    "- Trust in scientific results is of immense importants, hence, make sure that your research results can be trusted\n",
    "\n",
    "- Other scientists can build on your workflow/procedures, it helps to accumulate scientific knowledge\n",
    "\n",
    "- Requirements of journals or funding agencies\n",
    "\n",
    "https://the-turing-way.netlify.app/reproducible-research/overview/overview-benefit.html\n",
    "\n",
    "\n",
    "**Internal reasons**\n",
    "\n",
    "- You get questions about one of your earlier papers -- and are unable to reproduce the analyses (or are even unable to share the data)\n",
    "\n",
    "- Confidence in your own work\n",
    "\n",
    "- Easier workflow\n",
    "\n",
    "- Easier collaboration"
   ]
  },
  {
   "cell_type": "markdown",
   "id": "e7abc61d",
   "metadata": {},
   "source": [
    "Another list of reasons is provided by {cite:t}`alstonBeginnerGuideConducting2021`, here, the authors distinguish between \"Reproducible research benefits those who do it\" and \"Reproducible research benefits the research community\":\n",
    "\n",
    "\n",
    "**Reproducible research benefits those who do it** \n",
    "\n",
    "- It helps researchers remember how and why they performed specific analyses during the course of a project\n",
    "\n",
    "- It enables researchers to quickly and simply modify analyses and figures\n",
    "\n",
    "- Reproducible research enables quick reconfiguration of previously conducted research tasks so that new projects that require similar tasks become much simpler and easier\n",
    "\n",
    "- Conducting reproducible research is a strong indicator to fellow researchers of rigor, trustworthiness, and transparency in scientific research\n",
    "\n",
    "- Reproducible research increases paper citation rates\n",
    "\n",
    "**Reproducible research benefits the research community**\n",
    "\n",
    "- Reproducible research allows others to learn from your work\n",
    "\n",
    "- Reproducible research allows others to protect themselves from your mistakes"
   ]
  },
  {
   "cell_type": "markdown",
   "id": "9226855e",
   "metadata": {},
   "source": [
    "Finally, The Turing Way also provides a list of reasons why reproducible research might be beneficial: https://the-turing-way.netlify.app/reproducible-research/overview/overview-benefit.html"
   ]
  },
  {
   "cell_type": "markdown",
   "id": "ae3d1bbd",
   "metadata": {},
   "source": [
    "## References\n",
    "\n",
    "```{bibliography}\n",
    "```"
   ]
  }
 ],
 "metadata": {
  "celltoolbar": "Edit Metadata",
  "hide_code_all_hidden": false,
  "kernelspec": {
   "display_name": "Python 3 (ipykernel)",
   "language": "python",
   "name": "python3"
  },
  "language_info": {
   "codemirror_mode": {
    "name": "ipython",
    "version": 3
   },
   "file_extension": ".py",
   "mimetype": "text/x-python",
   "name": "python",
   "nbconvert_exporter": "python",
   "pygments_lexer": "ipython3",
   "version": "3.8.12"
  },
  "toc": {
   "base_numbering": 1,
   "nav_menu": {},
   "number_sections": true,
   "sideBar": true,
   "skip_h1_title": false,
   "title_cell": "Table of Contents",
   "title_sidebar": "Contents",
   "toc_cell": false,
   "toc_position": {},
   "toc_section_display": true,
   "toc_window_display": true
  }
 },
 "nbformat": 4,
 "nbformat_minor": 5
}
